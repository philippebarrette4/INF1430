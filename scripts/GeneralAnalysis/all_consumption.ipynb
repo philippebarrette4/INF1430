{
 "cells": [
  {
   "cell_type": "code",
   "execution_count": 2,
   "metadata": {
    "vscode": {
     "languageId": "r"
    }
   },
   "outputs": [],
   "source": [
    "# Data transformation\n",
    "library(dplyr)\n",
    "library(readr)\n",
    "library(lubridate)\n",
    "# Data visualization\n",
    "library(ggplot2)\n",
    "library(scales)\n",
    "# Custom R file\n",
    "source(\"../Common/func.R\")"
   ]
  },
  {
   "cell_type": "code",
   "execution_count": 17,
   "metadata": {
    "vscode": {
     "languageId": "r"
    }
   },
   "outputs": [
    {
     "ename": "ERROR",
     "evalue": "Error in eval_tidy(pair$lhs, env = default_env): objet 'x' introuvable\n",
     "output_type": "error",
     "traceback": [
      "Error in eval_tidy(pair$lhs, env = default_env): objet 'x' introuvable\nTraceback:\n",
      "1. case_when(x%%35 == 0 ~ \"fizz buzz\", x%%5 == 0 ~ \"fizz\", x%%7 == \n .     0 ~ \"buzz\", TRUE ~ as.character(x))",
      "2. eval_tidy(pair$lhs, env = default_env)"
     ]
    }
   ],
   "source": [
    "# Whole House Water\n",
    "whwDF <-    read_csv(\"../../data/Water_WHW.csv\", show_col_types = FALSE) %>%\n",
    "            convert_timeStamp(\"unix_ts\")\n",
    "# Whole House Electricity\n",
    "wheDF <-    read_csv(\"../../data/Electricity_WHE.csv\", show_col_types = FALSE) %>%\n",
    "            convert_timeStamp(\"unix_ts\") %>%\n",
    "            mutate(avg_rate_modif = if_else(is.na(St - lag(St)), 0, St - lag(St)))\n",
    "# Whole House Natural Gas\n",
    "whgDF <-    read_csv(\"../../data/NaturalGas_WHG.csv\", show_col_types = FALSE) %>%\n",
    "            convert_timeStamp(\"unix_ts\") %>%\n",
    "            mutate(avg_rate_modif = avg_rate / 60)"
   ]
  },
  {
   "cell_type": "code",
   "execution_count": 18,
   "metadata": {
    "vscode": {
     "languageId": "r"
    }
   },
   "outputs": [],
   "source": [
    "# Whole House Water\n",
    "whwDaily <- whwDF %>%\n",
    "    group_by(date) %>% \n",
    "    summarise(\n",
    "        year        = factor(first(year)),\n",
    "        month       = factor(first(month)),\n",
    "        day         = factor(first(day)),\n",
    "        wDay        = first(wday(date, week_start = 1)),\n",
    "        consumption = sum(avg_rate) / 1000 # Liters to kilo Liters\n",
    "    )\n",
    "# Whole House Electricity\n",
    "wheDaily <- wheDF %>%\n",
    "    group_by(date) %>% \n",
    "    summarise(\n",
    "        year        = factor(first(year)),\n",
    "        month       = factor(first(month)),\n",
    "        day         = factor(first(day)),\n",
    "        wDay        = first(wday(date, week_start = 1)),\n",
    "        consumption = sum(avg_rate_modif) / 1000 # Watts per hour to kWh\n",
    "    )\n",
    "# Whole House Natural Gas\n",
    "whgDaily <- whgDF %>%\n",
    "    group_by(date) %>% \n",
    "    summarise(\n",
    "        year        = factor(first(year)),\n",
    "        month       = factor(first(month)),\n",
    "        day         = factor(first(day)),\n",
    "        wDay        = first(wday(date, week_start = 1)),\n",
    "        consumption = sum(avg_rate) # meter cube\n",
    "    )"
   ]
  },
  {
   "cell_type": "code",
   "execution_count": 46,
   "metadata": {
    "vscode": {
     "languageId": "r"
    }
   },
   "outputs": [],
   "source": [
    "all_metrics <- whwDaily %>%\n",
    "    left_join(wheDaily, by = c(\"date\"), suffix = c(\"_water\", \"_elec\")) %>%\n",
    "    left_join(whgDaily, by = c(\"date\"), suffix = c(\"\", \"_gas\")) %>%\n",
    "    select(date, year_water, month_water, day_water, wDay_water, consumption_water, consumption_elec, consumption) %>%\n",
    "    rename(\n",
    "        year                = year_water,\n",
    "        month               = month_water,\n",
    "        day                 = day_water,\n",
    "        wDay                = wDay_water,\n",
    "        `consumption (kL)`  = consumption_water,\n",
    "        `consumption (kWh)` = consumption_elec,\n",
    "        `consumption (m3)`  = consumption\n",
    "    )"
   ]
  },
  {
   "cell_type": "code",
   "execution_count": 55,
   "metadata": {
    "vscode": {
     "languageId": "r"
    }
   },
   "outputs": [
    {
     "ename": "ERROR",
     "evalue": "Error in lm.fit(x, y, offset = offset, singular.ok = singular.ok, ...): NA/NaN/Inf dans 'x'\n",
     "output_type": "error",
     "traceback": [
      "Error in lm.fit(x, y, offset = offset, singular.ok = singular.ok, ...): NA/NaN/Inf dans 'x'\nTraceback:\n",
      "1. lm(log10(all_metrics$`consumption (kWh)`) ~ log10(all_metrics$`consumption (kL)`) + \n .     log10(all_metrics$`consumption (m3)`), data = all_metrics)",
      "2. lm.fit(x, y, offset = offset, singular.ok = singular.ok, ...)"
     ]
    }
   ],
   "source": [
    "lmodel = lm(log10(all_metrics$`consumption (kWh)`) ~ log10(all_metrics$`consumption (kL)`) + log10(all_metrics$`consumption (m3)`), data = all_metrics)\n",
    "summary(lmodel)"
   ]
  },
  {
   "cell_type": "code",
   "execution_count": 56,
   "metadata": {
    "vscode": {
     "languageId": "r"
    }
   },
   "outputs": [
    {
     "name": "stdout",
     "output_type": "stream",
     "text": [
      "[1] NaN\n"
     ]
    }
   ],
   "source": [
    "cor_w_e <- cor(\n",
    "    x = log(all_metrics$`consumption (kWh)`), \n",
    "    y = log(all_metrics$`consumption (m3)`), \n",
    "    use = \"everything\", method = c(\"pearson\")\n",
    ")\n",
    "print(cor_w_e)"
   ]
  }
 ],
 "metadata": {
  "kernelspec": {
   "display_name": "R",
   "language": "R",
   "name": "ir"
  },
  "language_info": {
   "codemirror_mode": "r",
   "file_extension": ".r",
   "mimetype": "text/x-r-source",
   "name": "R",
   "pygments_lexer": "r",
   "version": "4.2.2"
  },
  "orig_nbformat": 4,
  "vscode": {
   "interpreter": {
    "hash": "35af22bd3ab8c2b94e8619f60edf749f02025669d7727c2cb19c7930d0e87713"
   }
  }
 },
 "nbformat": 4,
 "nbformat_minor": 2
}
