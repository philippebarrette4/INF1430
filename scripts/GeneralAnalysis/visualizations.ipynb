{
 "cells": [
  {
   "cell_type": "code",
   "execution_count": 2,
   "metadata": {
    "vscode": {
     "languageId": "r"
    }
   },
   "outputs": [],
   "source": [
    "# Data transformation\n",
    "library(dplyr)\n",
    "library(readr)\n",
    "library(lubridate)\n",
    "# Data visualization\n",
    "library(ggplot2)\n",
    "library(scales)\n",
    "# Custom R file\n",
    "source(\"../Common/func.R\")"
   ]
  },
  {
   "cell_type": "code",
   "execution_count": 41,
   "metadata": {
    "vscode": {
     "languageId": "r"
    }
   },
   "outputs": [],
   "source": [
    "elecDF      <-  read_csv(\"../../curated/electricity/gold_monthly_electricity.csv\",  show_col_types = FALSE) %>%\n",
    "                mutate(\n",
    "                    year_month = as.Date(paste(year, month, sep = \"-\"), format = \"%Y-%m\")\n",
    "                )\n",
    "weatherDF   <-  read_csv(\"../../curated/weather/gold_monthly_weather.csv\",          show_col_types = FALSE) %>%\n",
    "                mutate(\n",
    "                    year_month = as.Date(paste(year, month, sep = \"-\"), format = \"%Y-%m\")\n",
    "                )"
   ]
  },
  {
   "cell_type": "code",
   "execution_count": 43,
   "metadata": {
    "vscode": {
     "languageId": "r"
    }
   },
   "outputs": [
    {
     "data": {
      "text/html": [
       "<table class=\"dataframe\">\n",
       "<caption>A tibble: 5 × 21</caption>\n",
       "<thead>\n",
       "\t<tr><th scope=col>year</th><th scope=col>month</th><th scope=col>avg_temp</th><th scope=col>med_temp</th><th scope=col>avg_dewpt_temp</th><th scope=col>med_dewpt_temp</th><th scope=col>avg_rel_hum_pct</th><th scope=col>med_rel_hum_pct</th><th scope=col>avg_wind_dir</th><th scope=col>med_wind_dir</th><th scope=col>⋯</th><th scope=col>med_wind_spd</th><th scope=col>avg_visib</th><th scope=col>med_visib</th><th scope=col>avg_stn_press</th><th scope=col>med_stn_press</th><th scope=col>avg_hmdx</th><th scope=col>med_hmdx</th><th scope=col>avg_wind_chill</th><th scope=col>med_wind_chill</th><th scope=col>year_month</th></tr>\n",
       "\t<tr><th scope=col>&lt;dbl&gt;</th><th scope=col>&lt;dbl&gt;</th><th scope=col>&lt;dbl&gt;</th><th scope=col>&lt;dbl&gt;</th><th scope=col>&lt;dbl&gt;</th><th scope=col>&lt;dbl&gt;</th><th scope=col>&lt;dbl&gt;</th><th scope=col>&lt;dbl&gt;</th><th scope=col>&lt;dbl&gt;</th><th scope=col>&lt;dbl&gt;</th><th scope=col>⋯</th><th scope=col>&lt;dbl&gt;</th><th scope=col>&lt;dbl&gt;</th><th scope=col>&lt;dbl&gt;</th><th scope=col>&lt;dbl&gt;</th><th scope=col>&lt;dbl&gt;</th><th scope=col>&lt;dbl&gt;</th><th scope=col>&lt;dbl&gt;</th><th scope=col>&lt;dbl&gt;</th><th scope=col>&lt;dbl&gt;</th><th scope=col>&lt;date&gt;</th></tr>\n",
       "</thead>\n",
       "<tbody>\n",
       "\t<tr><td>2012</td><td>4</td><td> 9.467917</td><td> 9.8</td><td> 4.670000</td><td> 4.60</td><td>72.71250</td><td>74</td><td>18.35833</td><td>15</td><td>⋯</td><td>13</td><td>28.73361</td><td>24.1</td><td>101.4942</td><td>101.540</td><td>26.00000</td><td>26</td><td>-5</td><td>-5</td><td>NA</td></tr>\n",
       "\t<tr><td>2012</td><td>5</td><td>12.207661</td><td>12.1</td><td> 5.428360</td><td> 5.30</td><td>64.13306</td><td>64</td><td>19.77151</td><td>21</td><td>⋯</td><td>13</td><td>35.80578</td><td>32.2</td><td>101.8121</td><td>101.790</td><td>26.00000</td><td>26</td><td>-5</td><td>-5</td><td>NA</td></tr>\n",
       "\t<tr><td>2012</td><td>6</td><td>14.148611</td><td>14.1</td><td> 8.047917</td><td> 7.75</td><td>67.47500</td><td>68</td><td>16.84722</td><td>14</td><td>⋯</td><td>13</td><td>30.24722</td><td>32.2</td><td>101.5036</td><td>101.475</td><td>26.00000</td><td>26</td><td>-5</td><td>-5</td><td>NA</td></tr>\n",
       "\t<tr><td>2012</td><td>7</td><td>17.513306</td><td>17.1</td><td>10.686694</td><td>10.50</td><td>64.81183</td><td>65</td><td>16.46237</td><td>14</td><td>⋯</td><td>13</td><td>34.40470</td><td>32.2</td><td>101.6377</td><td>101.680</td><td>26.00134</td><td>26</td><td>-5</td><td>-5</td><td>NA</td></tr>\n",
       "\t<tr><td>2012</td><td>8</td><td>18.765860</td><td>18.6</td><td>12.696371</td><td>12.70</td><td>68.90726</td><td>69</td><td>19.10753</td><td>15</td><td>⋯</td><td>13</td><td>38.44758</td><td>32.2</td><td>101.5871</td><td>101.580</td><td>26.18817</td><td>26</td><td>-5</td><td>-5</td><td>NA</td></tr>\n",
       "</tbody>\n",
       "</table>\n"
      ],
      "text/latex": [
       "A tibble: 5 × 21\n",
       "\\begin{tabular}{lllllllllllllllllllll}\n",
       " year & month & avg\\_temp & med\\_temp & avg\\_dewpt\\_temp & med\\_dewpt\\_temp & avg\\_rel\\_hum\\_pct & med\\_rel\\_hum\\_pct & avg\\_wind\\_dir & med\\_wind\\_dir & ⋯ & med\\_wind\\_spd & avg\\_visib & med\\_visib & avg\\_stn\\_press & med\\_stn\\_press & avg\\_hmdx & med\\_hmdx & avg\\_wind\\_chill & med\\_wind\\_chill & year\\_month\\\\\n",
       " <dbl> & <dbl> & <dbl> & <dbl> & <dbl> & <dbl> & <dbl> & <dbl> & <dbl> & <dbl> & ⋯ & <dbl> & <dbl> & <dbl> & <dbl> & <dbl> & <dbl> & <dbl> & <dbl> & <dbl> & <date>\\\\\n",
       "\\hline\n",
       "\t 2012 & 4 &  9.467917 &  9.8 &  4.670000 &  4.60 & 72.71250 & 74 & 18.35833 & 15 & ⋯ & 13 & 28.73361 & 24.1 & 101.4942 & 101.540 & 26.00000 & 26 & -5 & -5 & NA\\\\\n",
       "\t 2012 & 5 & 12.207661 & 12.1 &  5.428360 &  5.30 & 64.13306 & 64 & 19.77151 & 21 & ⋯ & 13 & 35.80578 & 32.2 & 101.8121 & 101.790 & 26.00000 & 26 & -5 & -5 & NA\\\\\n",
       "\t 2012 & 6 & 14.148611 & 14.1 &  8.047917 &  7.75 & 67.47500 & 68 & 16.84722 & 14 & ⋯ & 13 & 30.24722 & 32.2 & 101.5036 & 101.475 & 26.00000 & 26 & -5 & -5 & NA\\\\\n",
       "\t 2012 & 7 & 17.513306 & 17.1 & 10.686694 & 10.50 & 64.81183 & 65 & 16.46237 & 14 & ⋯ & 13 & 34.40470 & 32.2 & 101.6377 & 101.680 & 26.00134 & 26 & -5 & -5 & NA\\\\\n",
       "\t 2012 & 8 & 18.765860 & 18.6 & 12.696371 & 12.70 & 68.90726 & 69 & 19.10753 & 15 & ⋯ & 13 & 38.44758 & 32.2 & 101.5871 & 101.580 & 26.18817 & 26 & -5 & -5 & NA\\\\\n",
       "\\end{tabular}\n"
      ],
      "text/markdown": [
       "\n",
       "A tibble: 5 × 21\n",
       "\n",
       "| year &lt;dbl&gt; | month &lt;dbl&gt; | avg_temp &lt;dbl&gt; | med_temp &lt;dbl&gt; | avg_dewpt_temp &lt;dbl&gt; | med_dewpt_temp &lt;dbl&gt; | avg_rel_hum_pct &lt;dbl&gt; | med_rel_hum_pct &lt;dbl&gt; | avg_wind_dir &lt;dbl&gt; | med_wind_dir &lt;dbl&gt; | ⋯ ⋯ | med_wind_spd &lt;dbl&gt; | avg_visib &lt;dbl&gt; | med_visib &lt;dbl&gt; | avg_stn_press &lt;dbl&gt; | med_stn_press &lt;dbl&gt; | avg_hmdx &lt;dbl&gt; | med_hmdx &lt;dbl&gt; | avg_wind_chill &lt;dbl&gt; | med_wind_chill &lt;dbl&gt; | year_month &lt;date&gt; |\n",
       "|---|---|---|---|---|---|---|---|---|---|---|---|---|---|---|---|---|---|---|---|---|\n",
       "| 2012 | 4 |  9.467917 |  9.8 |  4.670000 |  4.60 | 72.71250 | 74 | 18.35833 | 15 | ⋯ | 13 | 28.73361 | 24.1 | 101.4942 | 101.540 | 26.00000 | 26 | -5 | -5 | NA |\n",
       "| 2012 | 5 | 12.207661 | 12.1 |  5.428360 |  5.30 | 64.13306 | 64 | 19.77151 | 21 | ⋯ | 13 | 35.80578 | 32.2 | 101.8121 | 101.790 | 26.00000 | 26 | -5 | -5 | NA |\n",
       "| 2012 | 6 | 14.148611 | 14.1 |  8.047917 |  7.75 | 67.47500 | 68 | 16.84722 | 14 | ⋯ | 13 | 30.24722 | 32.2 | 101.5036 | 101.475 | 26.00000 | 26 | -5 | -5 | NA |\n",
       "| 2012 | 7 | 17.513306 | 17.1 | 10.686694 | 10.50 | 64.81183 | 65 | 16.46237 | 14 | ⋯ | 13 | 34.40470 | 32.2 | 101.6377 | 101.680 | 26.00134 | 26 | -5 | -5 | NA |\n",
       "| 2012 | 8 | 18.765860 | 18.6 | 12.696371 | 12.70 | 68.90726 | 69 | 19.10753 | 15 | ⋯ | 13 | 38.44758 | 32.2 | 101.5871 | 101.580 | 26.18817 | 26 | -5 | -5 | NA |\n",
       "\n"
      ],
      "text/plain": [
       "  year month avg_temp  med_temp avg_dewpt_temp med_dewpt_temp avg_rel_hum_pct\n",
       "1 2012 4      9.467917  9.8      4.670000       4.60          72.71250       \n",
       "2 2012 5     12.207661 12.1      5.428360       5.30          64.13306       \n",
       "3 2012 6     14.148611 14.1      8.047917       7.75          67.47500       \n",
       "4 2012 7     17.513306 17.1     10.686694      10.50          64.81183       \n",
       "5 2012 8     18.765860 18.6     12.696371      12.70          68.90726       \n",
       "  med_rel_hum_pct avg_wind_dir med_wind_dir <U+22EF>        med_wind_spd avg_visib\n",
       "1 74              18.35833     15           <U+22EF> 13           28.73361 \n",
       "2 64              19.77151     21           <U+22EF> 13           35.80578 \n",
       "3 68              16.84722     14           <U+22EF> 13           30.24722 \n",
       "4 65              16.46237     14           <U+22EF> 13           34.40470 \n",
       "5 69              19.10753     15           <U+22EF> 13           38.44758 \n",
       "  med_visib avg_stn_press med_stn_press avg_hmdx med_hmdx avg_wind_chill\n",
       "1 24.1      101.4942      101.540       26.00000 26       -5            \n",
       "2 32.2      101.8121      101.790       26.00000 26       -5            \n",
       "3 32.2      101.5036      101.475       26.00000 26       -5            \n",
       "4 32.2      101.6377      101.680       26.00134 26       -5            \n",
       "5 32.2      101.5871      101.580       26.18817 26       -5            \n",
       "  med_wind_chill year_month\n",
       "1 -5             <NA>      \n",
       "2 -5             <NA>      \n",
       "3 -5             <NA>      \n",
       "4 -5             <NA>      \n",
       "5 -5             <NA>      "
      ]
     },
     "metadata": {},
     "output_type": "display_data"
    }
   ],
   "source": [
    "head(weatherDF, 5)"
   ]
  },
  {
   "cell_type": "code",
   "execution_count": 22,
   "metadata": {
    "vscode": {
     "languageId": "r"
    }
   },
   "outputs": [],
   "source": [
    "data <- weatherDF %>%\n",
    "    left_join(elecDF, by = c(\"year\", \"month\"), suffix = c(\"\", \"_elec\"))"
   ]
  },
  {
   "cell_type": "code",
   "execution_count": 42,
   "metadata": {
    "vscode": {
     "languageId": "r"
    }
   },
   "outputs": [
    {
     "name": "stderr",
     "output_type": "stream",
     "text": [
      "Warning message in min(x):\n",
      "\"aucun argument trouv'e pour min ; Inf est renvoy'e\"\n",
      "Warning message in max(x):\n",
      "\"aucun argument pour max ; -Inf est renvoy'e\"\n",
      "Warning message in min(diff(sort(x))):\n",
      "\"aucun argument trouv'e pour min ; Inf est renvoy'e\"\n",
      "Warning message:\n",
      "\"\u001b[1m\u001b[22mRemoved 25 rows containing missing values (`position_stack()`).\"\n",
      "ERROR while rich displaying an object: Error in seq.int(0, to0 - from, by): 'to' doit ^etre un entier fini\n",
      "\n",
      "Traceback:\n",
      "1. tryCatch(withCallingHandlers({\n",
      " .     if (!mime %in% names(repr::mime2repr)) \n",
      " .         stop(\"No repr_* for mimetype \", mime, \" in repr::mime2repr\")\n",
      " .     rpr <- repr::mime2repr[[mime]](obj)\n",
      " .     if (is.null(rpr)) \n",
      " .         return(NULL)\n",
      " .     prepare_content(is.raw(rpr), rpr)\n",
      " . }, error = error_handler), error = outer_handler)\n",
      "2. tryCatchList(expr, classes, parentenv, handlers)\n",
      "3. tryCatchOne(expr, names, parentenv, handlers[[1L]])\n",
      "4. doTryCatch(return(expr), name, parentenv, handler)\n",
      "5. withCallingHandlers({\n",
      " .     if (!mime %in% names(repr::mime2repr)) \n",
      " .         stop(\"No repr_* for mimetype \", mime, \" in repr::mime2repr\")\n",
      " .     rpr <- repr::mime2repr[[mime]](obj)\n",
      " .     if (is.null(rpr)) \n",
      " .         return(NULL)\n",
      " .     prepare_content(is.raw(rpr), rpr)\n",
      " . }, error = error_handler)\n",
      "6. repr::mime2repr[[mime]](obj)\n",
      "7. repr_text.default(obj)\n",
      "8. paste(capture.output(print(obj)), collapse = \"\\n\")\n",
      "9. capture.output(print(obj))\n",
      "10. withVisible(...elt(i))\n",
      "11. print(obj)\n",
      "12. print.ggplot(obj)\n",
      "13. ggplot_build(x)\n",
      "14. ggplot_build.ggplot(x)\n",
      "15. layout$setup_panel_params()\n",
      "16. setup_panel_params(..., self = self)\n",
      "17. Map(setup_panel_params, scales_x, scales_y)\n",
      "18. mapply(FUN = f, ..., SIMPLIFY = FALSE)\n",
      "19. (function (scale_x, scale_y) \n",
      "  . {\n",
      "  .     self$coord$setup_panel_params(scale_x, scale_y, params = self$coord_params)\n",
      "  . })(dots[[1L]][[1L]], dots[[2L]][[1L]])\n",
      "20. self$coord$setup_panel_params(scale_x, scale_y, params = self$coord_params)\n",
      "21. setup_panel_params(..., self = self)\n",
      "22. view_scales_from_scale(scale_x, self$limits$x, self$expand)\n",
      "23. view_scale_primary(scale, limits, continuous_range)\n",
      "24. scale$get_breaks(continuous_scale_sorted)\n",
      "25. get_breaks(..., self = self)\n",
      "26. ggproto_parent(ScaleContinuous, self)$get_breaks(limits)\n",
      "27. get_breaks(..., self = self)\n",
      "28. self$trans$breaks(limits)\n",
      "29. pretty(x, n, ...)\n",
      "30. pretty.Date(x, n, ...)\n",
      "31. calcSteps(st.i <- steps[[init.i]])\n",
      "32. seqDtime(startTime, end = lim[2], by = s$spec)\n",
      "33. seq(beg, end, by = by, length.out = length)\n",
      "34. seq.POSIXt(beg, end, by = by, length.out = length)\n"
     ]
    }
   ],
   "source": [
    "options(repr.plot.width = 25, repr.plot.height = 8)\n",
    "ggplot(elecDF, aes(x = year_month, y = consumption)) +\n",
    "    geom_col() + \n",
    "    geom_line(data = weatherDF, aes(x = year_month, y = avg_temp * 30, group = 1)) +\n",
    "    scale_y_continuous(sec.axis=sec_axis( ~ . / 30 ,name=\"Temp (C)\"))"
   ]
  }
 ],
 "metadata": {
  "kernelspec": {
   "display_name": "R",
   "language": "R",
   "name": "ir"
  },
  "language_info": {
   "codemirror_mode": "r",
   "file_extension": ".r",
   "mimetype": "text/x-r-source",
   "name": "R",
   "pygments_lexer": "r",
   "version": "4.2.2"
  },
  "orig_nbformat": 4
 },
 "nbformat": 4,
 "nbformat_minor": 2
}
