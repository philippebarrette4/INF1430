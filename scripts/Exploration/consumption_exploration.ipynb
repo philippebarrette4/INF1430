{
 "cells": [
  {
   "cell_type": "markdown",
   "metadata": {},
   "source": [
    "# Exploration of services (electricity, natural gas and water) and weather data \n",
    "\n",
    "#### Key points\n",
    "1. Trend through time (year, month, week, day, hour)\n",
    "2. Minimum and maximum of consumption per service\n",
    "3. Correlations between variables:\n",
    "      - Consumption vs. time of year\n",
    "      - Consumptions vs. consumptions\n",
    "      - Consumptions vs. weather "
   ]
  },
  {
   "cell_type": "markdown",
   "metadata": {},
   "source": [
    "### 1. Consumption Data Analysis"
   ]
  },
  {
   "cell_type": "code",
   "execution_count": 2,
   "metadata": {
    "vscode": {
     "languageId": "r"
    }
   },
   "outputs": [],
   "source": [
    "# Import libraries for plotting, reading and wrangling data\n",
    "library(ggplot2)\n",
    "library(readr)\n",
    "library(dplyr)"
   ]
  },
  {
   "cell_type": "markdown",
   "metadata": {},
   "source": [
    "##### a) Electricity Consumption"
   ]
  },
  {
   "cell_type": "code",
   "execution_count": 5,
   "metadata": {
    "vscode": {
     "languageId": "r"
    }
   },
   "outputs": [],
   "source": [
    "# Read hourly electricity consumption data in csv file\n",
    "ElecDF <- read_csv(\"../../curated/electricity/gold_hourly_electricity.csv\", show_col_types = FALSE)"
   ]
  },
  {
   "cell_type": "code",
   "execution_count": null,
   "metadata": {
    "vscode": {
     "languageId": "r"
    }
   },
   "outputs": [],
   "source": []
  }
 ],
 "metadata": {
  "kernelspec": {
   "display_name": "R",
   "language": "R",
   "name": "ir"
  },
  "language_info": {
   "codemirror_mode": "r",
   "file_extension": ".r",
   "mimetype": "text/x-r-source",
   "name": "R",
   "pygments_lexer": "r",
   "version": "4.2.2"
  },
  "orig_nbformat": 4
 },
 "nbformat": 4,
 "nbformat_minor": 2
}
