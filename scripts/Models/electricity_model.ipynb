{
 "cells": [
  {
   "attachments": {},
   "cell_type": "markdown",
   "metadata": {},
   "source": [
    "# Electricity consumtpion prediction"
   ]
  },
  {
   "attachments": {},
   "cell_type": "markdown",
   "metadata": {},
   "source": [
    "## Sections\n",
    "1. Read and prepare datasets\n",
    "2. Linear regression model\n",
    "    - Compute correlations between independant variables\n",
    "    - Define the linear regression model\n",
    "    - Define the Cross-validation plan\n",
    "    - Train the model\n",
    "    - Evaluate the model\n",
    "    - If necessary, refine the model\n",
    "3. Random forest model\n",
    "    - Define the model\n",
    "    - Define the Cross-validation plan\n",
    "    - Train the model\n",
    "    - Evaluate the model\n",
    "    - If necessary, refine the model\n",
    "4. Compare performances of both models\n",
    "5. Interpret the results"
   ]
  },
  {
   "attachments": {},
   "cell_type": "markdown",
   "metadata": {},
   "source": [
    "### 1. Read and prepare datasets"
   ]
  },
  {
   "attachments": {},
   "cell_type": "markdown",
   "metadata": {},
   "source": [
    "##### Import libraries"
   ]
  },
  {
   "cell_type": "code",
   "execution_count": 73,
   "metadata": {
    "vscode": {
     "languageId": "r"
    }
   },
   "outputs": [],
   "source": [
    "# Import libraries for plotting, reading and wrangling data\n",
    "library(tidyverse)\n",
    "library(scales)\n",
    "library(here)\n",
    "source(here::here(\"scripts/Common\", \"func.R\"))"
   ]
  },
  {
   "attachments": {},
   "cell_type": "markdown",
   "metadata": {},
   "source": [
    "##### Read datasets"
   ]
  },
  {
   "cell_type": "code",
   "execution_count": 2,
   "metadata": {
    "vscode": {
     "languageId": "r"
    }
   },
   "outputs": [],
   "source": [
    "# Read electricity datasets: Hourly, Daily, Monthly\n",
    "ElecHourDF  <-  read_csv(here::here(\"curated/electricity\", \"gold_hourly_electricity.csv\"),   show_col_types = FALSE)\n",
    "ElecDayDF   <-  read_csv(here::here(\"curated/electricity\", \"gold_daily_electricity.csv\"),    show_col_types = FALSE)\n",
    "ElecMonthDF <-  read_csv(here::here(\"curated/electricity\", \"gold_monthly_electricity.csv\"),  show_col_types = FALSE) %>%\n",
    "                mutate(year_month = factor(paste(year, month, sep = \"-\")))\n",
    "\n",
    "# Read weather datasets: Hourly, Daily, Monthly\n",
    "WeatherHourDF  <-   read_csv(here::here(\"curated/weather\", \"gold_hourly_weather.csv\"),   show_col_types = FALSE)\n",
    "WeatherDayDF   <-   read_csv(here::here(\"curated/weather\", \"gold_daily_weather.csv\"),    show_col_types = FALSE)\n",
    "WeatherMonthDF <-   read_csv(here::here(\"curated/weather\", \"gold_monthly_weather.csv\"),  show_col_types = FALSE) %>%\n",
    "                    mutate(year_month = factor(paste(year, month, sep = \"-\")))"
   ]
  },
  {
   "attachments": {},
   "cell_type": "markdown",
   "metadata": {},
   "source": [
    "##### Prepare dataframes"
   ]
  },
  {
   "cell_type": "code",
   "execution_count": 3,
   "metadata": {
    "vscode": {
     "languageId": "r"
    }
   },
   "outputs": [],
   "source": [
    "# Join hourly weather and electricity data\n",
    "WEHourDF <- WeatherHourDF %>%\n",
    "    left_join(ElecHourDF,   by = c(\"year\", \"month\", \"hour\"), suffix = c(\"\", \"_elec\")) %>%\n",
    "    select(year, month, hour, avg_temp, avg_dewpt_temp, avg_rel_hum_pct, avg_wind_dir, avg_wind_spd, avg_visib, avg_stn_press, avg_hmdx, avg_wind_chill, consumption)\n",
    "# Join daily weather and electricity data\n",
    "WEDayDF <- WeatherDayDF %>%\n",
    "    left_join(ElecDayDF,   by = c(\"date\", \"year\", \"month\", \"day\"), suffix = c(\"\", \"_elec\")) %>%\n",
    "    select(date, year, month, day, avg_temp, avg_dewpt_temp, avg_rel_hum_pct, avg_wind_dir, avg_wind_spd, avg_visib, avg_stn_press, avg_hmdx, avg_wind_chill, consumption)\n",
    "# Join monthly weather and electricity data\n",
    "WEMonthDF <- WeatherMonthDF %>%\n",
    "    left_join(ElecMonthDF,   by = c(\"year_month\", \"year\", \"month\"), suffix = c(\"\", \"_elec\")) %>%\n",
    "    select(year_month, year, month, avg_temp, avg_dewpt_temp, avg_rel_hum_pct, avg_wind_dir, avg_wind_spd, avg_visib, avg_stn_press, avg_hmdx, avg_wind_chill, consumption)"
   ]
  },
  {
   "attachments": {},
   "cell_type": "markdown",
   "metadata": {},
   "source": [
    "### 2. Linear regression model"
   ]
  },
  {
   "cell_type": "markdown",
   "metadata": {},
   "source": [
    "##### Compute correlations between independant variables\n",
    "This will give inputs about interactions that need to be defined in the linear regression model formula"
   ]
  },
  {
   "cell_type": "code",
   "execution_count": 4,
   "metadata": {
    "vscode": {
     "languageId": "r"
    }
   },
   "outputs": [
    {
     "data": {
      "text/html": [
       "<table class=\"dataframe\">\n",
       "<caption>A tibble: 6 × 5</caption>\n",
       "<thead>\n",
       "\t<tr><th scope=col>independantVariableOne</th><th scope=col>independantVariableTwo</th><th scope=col>hour</th><th scope=col>day</th><th scope=col>month</th></tr>\n",
       "\t<tr><th scope=col>&lt;chr&gt;</th><th scope=col>&lt;chr&gt;</th><th scope=col>&lt;dbl&gt;</th><th scope=col>&lt;dbl&gt;</th><th scope=col>&lt;dbl&gt;</th></tr>\n",
       "</thead>\n",
       "<tbody>\n",
       "\t<tr><td>avg_temp       </td><td>avg_dewpt_temp </td><td> 0.888</td><td> 0.922</td><td> 0.961</td></tr>\n",
       "\t<tr><td>avg_temp       </td><td>avg_rel_hum_pct</td><td>-0.401</td><td>-0.324</td><td>-0.578</td></tr>\n",
       "\t<tr><td>avg_temp       </td><td>avg_visib      </td><td> 0.394</td><td> 0.420</td><td> 0.833</td></tr>\n",
       "\t<tr><td>avg_dewpt_temp </td><td>avg_rel_hum_pct</td><td> 0.060</td><td> 0.067</td><td>-0.332</td></tr>\n",
       "\t<tr><td>avg_dewpt_temp </td><td>avg_visib      </td><td> 0.145</td><td> 0.174</td><td> 0.712</td></tr>\n",
       "\t<tr><td>avg_rel_hum_pct</td><td>avg_visib      </td><td>-0.588</td><td>-0.665</td><td>-0.748</td></tr>\n",
       "</tbody>\n",
       "</table>\n"
      ],
      "text/latex": [
       "A tibble: 6 × 5\n",
       "\\begin{tabular}{lllll}\n",
       " independantVariableOne & independantVariableTwo & hour & day & month\\\\\n",
       " <chr> & <chr> & <dbl> & <dbl> & <dbl>\\\\\n",
       "\\hline\n",
       "\t avg\\_temp        & avg\\_dewpt\\_temp  &  0.888 &  0.922 &  0.961\\\\\n",
       "\t avg\\_temp        & avg\\_rel\\_hum\\_pct & -0.401 & -0.324 & -0.578\\\\\n",
       "\t avg\\_temp        & avg\\_visib       &  0.394 &  0.420 &  0.833\\\\\n",
       "\t avg\\_dewpt\\_temp  & avg\\_rel\\_hum\\_pct &  0.060 &  0.067 & -0.332\\\\\n",
       "\t avg\\_dewpt\\_temp  & avg\\_visib       &  0.145 &  0.174 &  0.712\\\\\n",
       "\t avg\\_rel\\_hum\\_pct & avg\\_visib       & -0.588 & -0.665 & -0.748\\\\\n",
       "\\end{tabular}\n"
      ],
      "text/markdown": [
       "\n",
       "A tibble: 6 × 5\n",
       "\n",
       "| independantVariableOne &lt;chr&gt; | independantVariableTwo &lt;chr&gt; | hour &lt;dbl&gt; | day &lt;dbl&gt; | month &lt;dbl&gt; |\n",
       "|---|---|---|---|---|\n",
       "| avg_temp        | avg_dewpt_temp  |  0.888 |  0.922 |  0.961 |\n",
       "| avg_temp        | avg_rel_hum_pct | -0.401 | -0.324 | -0.578 |\n",
       "| avg_temp        | avg_visib       |  0.394 |  0.420 |  0.833 |\n",
       "| avg_dewpt_temp  | avg_rel_hum_pct |  0.060 |  0.067 | -0.332 |\n",
       "| avg_dewpt_temp  | avg_visib       |  0.145 |  0.174 |  0.712 |\n",
       "| avg_rel_hum_pct | avg_visib       | -0.588 | -0.665 | -0.748 |\n",
       "\n"
      ],
      "text/plain": [
       "  independantVariableOne independantVariableTwo hour   day    month \n",
       "1 avg_temp               avg_dewpt_temp          0.888  0.922  0.961\n",
       "2 avg_temp               avg_rel_hum_pct        -0.401 -0.324 -0.578\n",
       "3 avg_temp               avg_visib               0.394  0.420  0.833\n",
       "4 avg_dewpt_temp         avg_rel_hum_pct         0.060  0.067 -0.332\n",
       "5 avg_dewpt_temp         avg_visib               0.145  0.174  0.712\n",
       "6 avg_rel_hum_pct        avg_visib              -0.588 -0.665 -0.748"
      ]
     },
     "metadata": {},
     "output_type": "display_data"
    }
   ],
   "source": [
    "# Define the vector for weather metrics\n",
    "corrVec <- c(\"avg_temp\", \"avg_dewpt_temp\", \"avg_rel_hum_pct\", \"avg_visib\")\n",
    "\n",
    "# Create correlation dataframe for hourly data\n",
    "corrHourDF  <- pairwise_correlations_function(WEHourDF, corrVec, \"hour\")\n",
    "# Create correlation dataframe for daily data\n",
    "corrDayDF   <- pairwise_correlations_function(WEDayDF, corrVec, \"day\")\n",
    "# Create correlation dataframe for monthly data\n",
    "corrMonthDF <- pairwise_correlations_function(WEMonthDF, corrVec, \"month\")\n",
    "\n",
    "# Combine all three dataframe together\n",
    "combinedCorrsDF <- corrHourDF %>%\n",
    "    union(corrDayDF) %>%\n",
    "        union(corrMonthDF)\n",
    "\n",
    "# Display correlation results\n",
    "head(\n",
    "    combinedCorrsDF %>%\n",
    "        pivot_wider(names_from = timeFrame, values_from = correlation)\n",
    ")\n"
   ]
  },
  {
   "attachments": {},
   "cell_type": "markdown",
   "metadata": {},
   "source": [
    "##### Define the linear regression model"
   ]
  },
  {
   "cell_type": "code",
   "execution_count": 6,
   "metadata": {
    "vscode": {
     "languageId": "r"
    }
   },
   "outputs": [
    {
     "data": {
      "text/html": [
       "<table class=\"dataframe\">\n",
       "<caption>A data.frame: 3 × 3</caption>\n",
       "<thead>\n",
       "\t<tr><th></th><th scope=col>timeFrame</th><th scope=col>rSquared</th><th scope=col>adjRSquared</th></tr>\n",
       "\t<tr><th></th><th scope=col>&lt;chr&gt;</th><th scope=col>&lt;dbl&gt;</th><th scope=col>&lt;dbl&gt;</th></tr>\n",
       "</thead>\n",
       "<tbody>\n",
       "\t<tr><th scope=row>1</th><td>hour </td><td>0.03247435</td><td>0.03246345</td></tr>\n",
       "\t<tr><th scope=row>2</th><td>day  </td><td>0.25942922</td><td>0.25328341</td></tr>\n",
       "\t<tr><th scope=row>3</th><td>month</td><td>0.82544078</td><td>0.76383164</td></tr>\n",
       "</tbody>\n",
       "</table>\n"
      ],
      "text/latex": [
       "A data.frame: 3 × 3\n",
       "\\begin{tabular}{r|lll}\n",
       "  & timeFrame & rSquared & adjRSquared\\\\\n",
       "  & <chr> & <dbl> & <dbl>\\\\\n",
       "\\hline\n",
       "\t1 & hour  & 0.03247435 & 0.03246345\\\\\n",
       "\t2 & day   & 0.25942922 & 0.25328341\\\\\n",
       "\t3 & month & 0.82544078 & 0.76383164\\\\\n",
       "\\end{tabular}\n"
      ],
      "text/markdown": [
       "\n",
       "A data.frame: 3 × 3\n",
       "\n",
       "| <!--/--> | timeFrame &lt;chr&gt; | rSquared &lt;dbl&gt; | adjRSquared &lt;dbl&gt; |\n",
       "|---|---|---|---|\n",
       "| 1 | hour  | 0.03247435 | 0.03246345 |\n",
       "| 2 | day   | 0.25942922 | 0.25328341 |\n",
       "| 3 | month | 0.82544078 | 0.76383164 |\n",
       "\n"
      ],
      "text/plain": [
       "  timeFrame rSquared   adjRSquared\n",
       "1 hour      0.03247435 0.03246345 \n",
       "2 day       0.25942922 0.25328341 \n",
       "3 month     0.82544078 0.76383164 "
      ]
     },
     "metadata": {},
     "output_type": "display_data"
    }
   ],
   "source": [
    "#=========================\n",
    "# FORMULAS\n",
    "#=========================\n",
    "# define model formula\n",
    "# Only the independant variables that have a correlation higher than 50% for all time frames are considered for interactions\n",
    "fmla_linear_regression <- as.formula(\"consumption ~ avg_temp + avg_dewpt_temp + avg_rel_hum_pct + avg_visib + avg_temp:avg_dewpt_temp + avg_rel_hum_pct:avg_visib\")\n",
    "\n",
    "#=========================\n",
    "# LINEAR REGRESSION MODELS\n",
    "#=========================\n",
    "# Create linear regression models for all three time frames\n",
    "mdl_linear_regression_hour  <- lm(fmla_linear_regression, data = WEHourDF)\n",
    "mdl_linear_regression_day   <- lm(fmla_linear_regression, data = WEDayDF)\n",
    "mdl_linear_regression_month <- lm(fmla_linear_regression, data = WEMonthDF)\n",
    "\n",
    "# Create matrix containing R-Squared results for all three time frames\n",
    "ModelsPerfoMatrix <- data.frame(\n",
    "    timeFrame   = c(\"hour\", \"day\", \"month\"),\n",
    "    rSquared    = c(summary(mdl_linear_regression_hour)$r.squared,      summary(mdl_linear_regression_day)$r.squared,       summary(mdl_linear_regression_month)$r.squared),\n",
    "    adjRSquared = c(summary(mdl_linear_regression_hour)$adj.r.squared,  summary(mdl_linear_regression_day)$adj.r.squared,   summary(mdl_linear_regression_month)$adj.r.squared)\n",
    ")\n",
    "# Display performance results\n",
    "head(ModelsPerfoMatrix)"
   ]
  },
  {
   "cell_type": "code",
   "execution_count": 12,
   "metadata": {
    "vscode": {
     "languageId": "r"
    }
   },
   "outputs": [],
   "source": [
    "f_rmse <- function(pDF, pCol, pPredCol) {\n",
    "    err <- (pDF[pPredCol] - pDF[pCol])[[pPredCol]]\n",
    "    err2 <- err^2\n",
    "    rmse <- sqrt(mean(err2))\n",
    "    return(rmse)\n",
    "}"
   ]
  },
  {
   "cell_type": "code",
   "execution_count": 13,
   "metadata": {
    "vscode": {
     "languageId": "r"
    }
   },
   "outputs": [],
   "source": [
    "f_r_squared <- function(pDF, pCol, pPredCol) {\n",
    "    err <- pDF[pPredCol] - pDF[pCol]\n",
    "    rss <- sum(err[, pPredCol]^2)\n",
    "    #toterr <- pDF[pCol] - mean(pDF[pCol][, pCol])\n",
    "\n",
    "    toterr <- pDF[pCol][[pCol]] - mean(as.list(pDF[pCol])[[pCol]])\n",
    "    sstot <- sum(toterr^2)\n",
    "    r_squared <- 1 - (rss/sstot)\n",
    "\n",
    "    return(r_squared)  \n",
    "}"
   ]
  },
  {
   "cell_type": "code",
   "execution_count": 14,
   "metadata": {
    "vscode": {
     "languageId": "r"
    }
   },
   "outputs": [
    {
     "data": {
      "text/html": [
       "46.046049067569"
      ],
      "text/latex": [
       "46.046049067569"
      ],
      "text/markdown": [
       "46.046049067569"
      ],
      "text/plain": [
       "[1] 46.04605"
      ]
     },
     "metadata": {},
     "output_type": "display_data"
    },
    {
     "data": {
      "text/html": [
       "112.580371664238"
      ],
      "text/latex": [
       "112.580371664238"
      ],
      "text/markdown": [
       "112.580371664238"
      ],
      "text/plain": [
       "[1] 112.5804"
      ]
     },
     "metadata": {},
     "output_type": "display_data"
    },
    {
     "data": {
      "text/html": [
       "0.825440779675586"
      ],
      "text/latex": [
       "0.825440779675586"
      ],
      "text/markdown": [
       "0.825440779675586"
      ],
      "text/plain": [
       "[1] 0.8254408"
      ]
     },
     "metadata": {},
     "output_type": "display_data"
    }
   ],
   "source": [
    "WEMonthDF$pred <- predict(mdl_linear_regression_month, WEMonthDF)\n",
    "# RMSE\n",
    "(rmse <- f_rmse(WEMonthDF, \"consumption\", \"pred\"))\n",
    "(sdtemp <- sd(WEMonthDF$consumption))\n",
    "\n",
    "# R2\n",
    "(r_squared <- f_r_squared(WEMonthDF, \"consumption\", \"pred\"))"
   ]
  },
  {
   "cell_type": "markdown",
   "metadata": {},
   "source": [
    "### Cross-Validation"
   ]
  },
  {
   "cell_type": "code",
   "execution_count": 72,
   "metadata": {
    "vscode": {
     "languageId": "r"
    }
   },
   "outputs": [],
   "source": [
    "library(vtreat)"
   ]
  },
  {
   "cell_type": "code",
   "execution_count": 70,
   "metadata": {
    "vscode": {
     "languageId": "r"
    }
   },
   "outputs": [
    {
     "data": {
      "text/html": [
       "65.5010909724438"
      ],
      "text/latex": [
       "65.5010909724438"
      ],
      "text/markdown": [
       "65.5010909724438"
      ],
      "text/plain": [
       "[1] 65.50109"
      ]
     },
     "metadata": {},
     "output_type": "display_data"
    },
    {
     "data": {
      "text/html": [
       "112.580371664238"
      ],
      "text/latex": [
       "112.580371664238"
      ],
      "text/markdown": [
       "112.580371664238"
      ],
      "text/plain": [
       "[1] 112.5804"
      ]
     },
     "metadata": {},
     "output_type": "display_data"
    },
    {
     "data": {
      "text/html": [
       "0.646772004582827"
      ],
      "text/latex": [
       "0.646772004582827"
      ],
      "text/markdown": [
       "0.646772004582827"
      ],
      "text/plain": [
       "[1] 0.646772"
      ]
     },
     "metadata": {},
     "output_type": "display_data"
    }
   ],
   "source": [
    "set.seed(110)\n",
    "Rows <- nrow(WEMonthDF)\n",
    "splitPlan <- kWayCrossValidation(nRows, 3, NULL, NULL)\n",
    "\n",
    "k <- 3\n",
    "WEMonthDF$pred.cv <- 0\n",
    "for(i in 1:k) {\n",
    "    split <- splitPlan[[i]]\n",
    "    model <- lm(fmla_linear_regression, data = WEMonthDF[split$train, ])\n",
    "    WEMonthDF$pred.cv[split$app] <- predict(model, newdata = WEMonthDF[split$app, ])\n",
    "}\n",
    "\n",
    "# RMSE\n",
    "(rmse <- f_rmse(WEMonthDF, \"consumption\", \"pred.cv\"))\n",
    "(sdtemp <- sd(WEMonthDF$consumption))\n",
    "\n",
    "# R2\n",
    "(r_squared <- f_r_squared(WEMonthDF, \"consumption\", \"pred.cv\"))"
   ]
  },
  {
   "cell_type": "code",
   "execution_count": 71,
   "metadata": {
    "vscode": {
     "languageId": "r"
    }
   },
   "outputs": [
    {
     "data": {
      "text/html": [
       "<table class=\"dataframe\">\n",
       "<caption>A tibble: 24 × 17</caption>\n",
       "<thead>\n",
       "\t<tr><th scope=col>year_month</th><th scope=col>year</th><th scope=col>month</th><th scope=col>avg_temp</th><th scope=col>avg_dewpt_temp</th><th scope=col>avg_rel_hum_pct</th><th scope=col>avg_wind_dir</th><th scope=col>avg_wind_spd</th><th scope=col>avg_visib</th><th scope=col>avg_stn_press</th><th scope=col>avg_hmdx</th><th scope=col>avg_wind_chill</th><th scope=col>consumption</th><th scope=col>pred</th><th scope=col>pred.cv</th><th scope=col>diff_pred</th><th scope=col>diff_pred.cv</th></tr>\n",
       "\t<tr><th scope=col>&lt;fct&gt;</th><th scope=col>&lt;dbl&gt;</th><th scope=col>&lt;dbl&gt;</th><th scope=col>&lt;dbl&gt;</th><th scope=col>&lt;dbl&gt;</th><th scope=col>&lt;dbl&gt;</th><th scope=col>&lt;dbl&gt;</th><th scope=col>&lt;dbl&gt;</th><th scope=col>&lt;dbl&gt;</th><th scope=col>&lt;dbl&gt;</th><th scope=col>&lt;dbl&gt;</th><th scope=col>&lt;dbl&gt;</th><th scope=col>&lt;dbl&gt;</th><th scope=col>&lt;dbl&gt;</th><th scope=col>&lt;dbl&gt;</th><th scope=col>&lt;dbl&gt;</th><th scope=col>&lt;dbl&gt;</th></tr>\n",
       "</thead>\n",
       "<tbody>\n",
       "\t<tr><td>2012-4 </td><td>2012</td><td> 4</td><td> 9.467917</td><td> 4.6700000</td><td>72.71250</td><td>18.35833</td><td>13.330556</td><td>28.73361</td><td>101.4942</td><td>26.00000</td><td>-5.000000</td><td> 871.43</td><td> 906.7762</td><td> 900.2612</td><td> 35.3461541</td><td> 28.831220</td></tr>\n",
       "\t<tr><td>2012-5 </td><td>2012</td><td> 5</td><td>12.207661</td><td> 5.4283602</td><td>64.13306</td><td>19.77151</td><td>14.127688</td><td>35.80578</td><td>101.8121</td><td>26.00000</td><td>-5.000000</td><td> 804.93</td><td> 853.5761</td><td> 848.3651</td><td> 48.6461199</td><td> 43.435147</td></tr>\n",
       "\t<tr><td>2012-6 </td><td>2012</td><td> 6</td><td>14.148611</td><td> 8.0479167</td><td>67.47500</td><td>16.84722</td><td>12.858333</td><td>30.24722</td><td>101.5036</td><td>26.00000</td><td>-5.000000</td><td> 708.65</td><td> 757.4191</td><td> 747.7381</td><td> 48.7690677</td><td> 39.088061</td></tr>\n",
       "\t<tr><td>2012-7 </td><td>2012</td><td> 7</td><td>17.513306</td><td>10.6866935</td><td>64.81183</td><td>16.46237</td><td>12.536290</td><td>34.40470</td><td>101.6377</td><td>26.00134</td><td>-5.000000</td><td> 742.74</td><td> 710.3144</td><td> 732.3747</td><td> 32.4256159</td><td> 10.365263</td></tr>\n",
       "\t<tr><td>2012-8 </td><td>2012</td><td> 8</td><td>18.765860</td><td>12.6963710</td><td>68.90726</td><td>19.10753</td><td>12.513441</td><td>38.44758</td><td>101.5871</td><td>26.18817</td><td>-5.000000</td><td> 800.16</td><td> 704.6996</td><td> 677.2069</td><td> 95.4604247</td><td>122.953075</td></tr>\n",
       "\t<tr><td>2012-9 </td><td>2012</td><td> 9</td><td>15.228056</td><td>10.7530556</td><td>75.64306</td><td>21.18333</td><td>11.200000</td><td>39.40250</td><td>101.9425</td><td>25.99583</td><td>-5.000000</td><td> 720.55</td><td> 792.3250</td><td> 802.2413</td><td> 71.7750030</td><td> 81.691343</td></tr>\n",
       "\t<tr><td>2012-10</td><td>2012</td><td>10</td><td>10.389651</td><td> 7.3231183</td><td>82.15457</td><td>15.38306</td><td>12.728495</td><td>24.50753</td><td>101.5207</td><td>26.00000</td><td>-5.000000</td><td> 923.40</td><td> 889.6938</td><td> 864.5537</td><td> 33.7062274</td><td> 58.846265</td></tr>\n",
       "\t<tr><td>2012-11</td><td>2012</td><td>11</td><td> 7.355139</td><td> 4.8981944</td><td>85.03750</td><td>13.90139</td><td>13.429167</td><td>23.29736</td><td>101.4090</td><td>26.00000</td><td>-4.997222</td><td>1073.13</td><td> 953.3780</td><td> 930.7573</td><td>119.7519851</td><td>142.372718</td></tr>\n",
       "\t<tr><td>2012-12</td><td>2012</td><td>12</td><td> 4.403495</td><td> 2.4486559</td><td>87.36425</td><td>14.22177</td><td>15.302419</td><td>19.40054</td><td>101.1006</td><td>26.00000</td><td>-4.981183</td><td>1010.76</td><td>1055.6594</td><td>1140.6541</td><td> 44.8994405</td><td>129.894134</td></tr>\n",
       "\t<tr><td>2013-1 </td><td>2013</td><td> 1</td><td> 2.782796</td><td> 1.0475806</td><td>88.68683</td><td>14.76344</td><td> 9.239247</td><td>21.24812</td><td>102.2628</td><td>26.00000</td><td>-4.947581</td><td>1011.84</td><td>1022.7076</td><td>1084.6538</td><td> 10.8676380</td><td> 72.813804</td></tr>\n",
       "\t<tr><td>2013-2 </td><td>2013</td><td> 2</td><td> 5.486607</td><td> 2.0007440</td><td>78.65774</td><td>15.52232</td><td>13.599702</td><td>21.79360</td><td>102.0866</td><td>26.00000</td><td>-4.997024</td><td>1002.25</td><td>1012.6819</td><td>1010.9968</td><td> 10.4318600</td><td>  8.746829</td></tr>\n",
       "\t<tr><td>2013-3 </td><td>2013</td><td> 3</td><td> 7.248522</td><td> 2.7741935</td><td>73.86156</td><td>18.46909</td><td>14.262097</td><td>30.56694</td><td>101.9071</td><td>26.00000</td><td>-4.994624</td><td>1038.28</td><td> 973.5637</td><td> 967.1316</td><td> 64.7162957</td><td> 71.148431</td></tr>\n",
       "\t<tr><td>2013-4 </td><td>2013</td><td> 4</td><td> 9.483333</td><td> 4.7198611</td><td>73.20972</td><td>17.96667</td><td>15.334722</td><td>31.57889</td><td>101.9230</td><td>26.00000</td><td>-5.000000</td><td> 921.55</td><td> 890.4202</td><td> 884.1160</td><td> 31.1298218</td><td> 37.433985</td></tr>\n",
       "\t<tr><td>2013-5 </td><td>2013</td><td> 5</td><td>13.246909</td><td> 8.6884409</td><td>74.80376</td><td>17.93280</td><td>12.856183</td><td>32.84476</td><td>101.7741</td><td>26.00000</td><td>-5.000000</td><td> 791.05</td><td> 828.0169</td><td> 817.7396</td><td> 36.9669464</td><td> 26.689557</td></tr>\n",
       "\t<tr><td>2013-6 </td><td>2013</td><td> 6</td><td>16.060139</td><td>11.7837500</td><td>76.42778</td><td>19.05694</td><td>12.611111</td><td>34.63097</td><td>101.5991</td><td>26.09167</td><td>-5.000000</td><td> 777.69</td><td> 796.7019</td><td> 794.9802</td><td> 19.0118551</td><td> 17.290154</td></tr>\n",
       "\t<tr><td>2013-7 </td><td>2013</td><td> 7</td><td>18.456720</td><td>13.4698925</td><td>73.13306</td><td>20.18414</td><td>13.922043</td><td>41.48333</td><td>101.6426</td><td>26.09005</td><td>-5.000000</td><td> 813.48</td><td> 815.3629</td><td> 780.9563</td><td>  1.8828653</td><td> 32.523673</td></tr>\n",
       "\t<tr><td>2013-8 </td><td>2013</td><td> 8</td><td>18.438306</td><td>14.2721774</td><td>77.24462</td><td>16.69892</td><td>12.369624</td><td>33.75027</td><td>101.4800</td><td>26.10349</td><td>-5.000000</td><td> 753.73</td><td> 753.9707</td><td> 721.5844</td><td>  0.2407326</td><td> 32.145599</td></tr>\n",
       "\t<tr><td>2013-9 </td><td>2013</td><td> 9</td><td>15.362778</td><td>13.0066667</td><td>86.19306</td><td>18.24583</td><td>12.758333</td><td>28.37847</td><td>101.0857</td><td>26.00000</td><td>-5.000000</td><td> 781.38</td><td> 818.0710</td><td> 816.3082</td><td> 36.6909737</td><td> 34.928213</td></tr>\n",
       "\t<tr><td>2013-10</td><td>2013</td><td>10</td><td> 9.258199</td><td> 7.2736559</td><td>88.10887</td><td>18.61156</td><td> 9.689516</td><td>23.50121</td><td>102.0566</td><td>26.00000</td><td>-5.000000</td><td> 888.80</td><td> 908.6000</td><td> 875.0691</td><td> 19.7999923</td><td> 13.730895</td></tr>\n",
       "\t<tr><td>2013-11</td><td>2013</td><td>11</td><td> 6.241944</td><td> 4.0119444</td><td>86.06250</td><td>16.46806</td><td>11.684722</td><td>28.37347</td><td>101.8993</td><td>26.00000</td><td>-4.925000</td><td> 959.48</td><td> 916.2247</td><td> 882.3284</td><td> 43.2553378</td><td> 77.151553</td></tr>\n",
       "\t<tr><td>2013-12</td><td>2013</td><td>12</td><td> 2.581048</td><td>-0.2509409</td><td>83.13172</td><td>12.79570</td><td>11.942204</td><td>23.52258</td><td>102.4702</td><td>26.00000</td><td>-5.524194</td><td> 906.63</td><td> 925.7487</td><td> 919.4178</td><td> 19.1186597</td><td> 12.787766</td></tr>\n",
       "\t<tr><td>2014-1 </td><td>2014</td><td> 1</td><td> 4.412769</td><td> 3.2709677</td><td>92.32258</td><td>18.14516</td><td>11.424731</td><td>19.62648</td><td>102.1822</td><td>26.00000</td><td>-4.935484</td><td>1020.12</td><td>1041.2385</td><td>1134.1853</td><td> 21.1185298</td><td>114.065286</td></tr>\n",
       "\t<tr><td>2014-2 </td><td>2014</td><td> 2</td><td> 2.517857</td><td>-1.9626488</td><td>75.16964</td><td>16.20833</td><td>14.742560</td><td>26.35045</td><td>101.4380</td><td>26.00000</td><td>-5.476190</td><td> 792.16</td><td> 805.9312</td><td> 774.4097</td><td> 13.7711970</td><td> 17.750251</td></tr>\n",
       "\t<tr><td>2014-3 </td><td>2014</td><td> 3</td><td> 6.910887</td><td> 4.0340054</td><td>82.52823</td><td>16.27151</td><td>15.357527</td><td>26.05161</td><td>101.4836</td><td>26.00000</td><td>-4.989247</td><td> 966.89</td><td> 947.9987</td><td> 946.2640</td><td> 18.8913265</td><td> 20.626000</td></tr>\n",
       "</tbody>\n",
       "</table>\n"
      ],
      "text/latex": [
       "A tibble: 24 × 17\n",
       "\\begin{tabular}{lllllllllllllllll}\n",
       " year\\_month & year & month & avg\\_temp & avg\\_dewpt\\_temp & avg\\_rel\\_hum\\_pct & avg\\_wind\\_dir & avg\\_wind\\_spd & avg\\_visib & avg\\_stn\\_press & avg\\_hmdx & avg\\_wind\\_chill & consumption & pred & pred.cv & diff\\_pred & diff\\_pred.cv\\\\\n",
       " <fct> & <dbl> & <dbl> & <dbl> & <dbl> & <dbl> & <dbl> & <dbl> & <dbl> & <dbl> & <dbl> & <dbl> & <dbl> & <dbl> & <dbl> & <dbl> & <dbl>\\\\\n",
       "\\hline\n",
       "\t 2012-4  & 2012 &  4 &  9.467917 &  4.6700000 & 72.71250 & 18.35833 & 13.330556 & 28.73361 & 101.4942 & 26.00000 & -5.000000 &  871.43 &  906.7762 &  900.2612 &  35.3461541 &  28.831220\\\\\n",
       "\t 2012-5  & 2012 &  5 & 12.207661 &  5.4283602 & 64.13306 & 19.77151 & 14.127688 & 35.80578 & 101.8121 & 26.00000 & -5.000000 &  804.93 &  853.5761 &  848.3651 &  48.6461199 &  43.435147\\\\\n",
       "\t 2012-6  & 2012 &  6 & 14.148611 &  8.0479167 & 67.47500 & 16.84722 & 12.858333 & 30.24722 & 101.5036 & 26.00000 & -5.000000 &  708.65 &  757.4191 &  747.7381 &  48.7690677 &  39.088061\\\\\n",
       "\t 2012-7  & 2012 &  7 & 17.513306 & 10.6866935 & 64.81183 & 16.46237 & 12.536290 & 34.40470 & 101.6377 & 26.00134 & -5.000000 &  742.74 &  710.3144 &  732.3747 &  32.4256159 &  10.365263\\\\\n",
       "\t 2012-8  & 2012 &  8 & 18.765860 & 12.6963710 & 68.90726 & 19.10753 & 12.513441 & 38.44758 & 101.5871 & 26.18817 & -5.000000 &  800.16 &  704.6996 &  677.2069 &  95.4604247 & 122.953075\\\\\n",
       "\t 2012-9  & 2012 &  9 & 15.228056 & 10.7530556 & 75.64306 & 21.18333 & 11.200000 & 39.40250 & 101.9425 & 25.99583 & -5.000000 &  720.55 &  792.3250 &  802.2413 &  71.7750030 &  81.691343\\\\\n",
       "\t 2012-10 & 2012 & 10 & 10.389651 &  7.3231183 & 82.15457 & 15.38306 & 12.728495 & 24.50753 & 101.5207 & 26.00000 & -5.000000 &  923.40 &  889.6938 &  864.5537 &  33.7062274 &  58.846265\\\\\n",
       "\t 2012-11 & 2012 & 11 &  7.355139 &  4.8981944 & 85.03750 & 13.90139 & 13.429167 & 23.29736 & 101.4090 & 26.00000 & -4.997222 & 1073.13 &  953.3780 &  930.7573 & 119.7519851 & 142.372718\\\\\n",
       "\t 2012-12 & 2012 & 12 &  4.403495 &  2.4486559 & 87.36425 & 14.22177 & 15.302419 & 19.40054 & 101.1006 & 26.00000 & -4.981183 & 1010.76 & 1055.6594 & 1140.6541 &  44.8994405 & 129.894134\\\\\n",
       "\t 2013-1  & 2013 &  1 &  2.782796 &  1.0475806 & 88.68683 & 14.76344 &  9.239247 & 21.24812 & 102.2628 & 26.00000 & -4.947581 & 1011.84 & 1022.7076 & 1084.6538 &  10.8676380 &  72.813804\\\\\n",
       "\t 2013-2  & 2013 &  2 &  5.486607 &  2.0007440 & 78.65774 & 15.52232 & 13.599702 & 21.79360 & 102.0866 & 26.00000 & -4.997024 & 1002.25 & 1012.6819 & 1010.9968 &  10.4318600 &   8.746829\\\\\n",
       "\t 2013-3  & 2013 &  3 &  7.248522 &  2.7741935 & 73.86156 & 18.46909 & 14.262097 & 30.56694 & 101.9071 & 26.00000 & -4.994624 & 1038.28 &  973.5637 &  967.1316 &  64.7162957 &  71.148431\\\\\n",
       "\t 2013-4  & 2013 &  4 &  9.483333 &  4.7198611 & 73.20972 & 17.96667 & 15.334722 & 31.57889 & 101.9230 & 26.00000 & -5.000000 &  921.55 &  890.4202 &  884.1160 &  31.1298218 &  37.433985\\\\\n",
       "\t 2013-5  & 2013 &  5 & 13.246909 &  8.6884409 & 74.80376 & 17.93280 & 12.856183 & 32.84476 & 101.7741 & 26.00000 & -5.000000 &  791.05 &  828.0169 &  817.7396 &  36.9669464 &  26.689557\\\\\n",
       "\t 2013-6  & 2013 &  6 & 16.060139 & 11.7837500 & 76.42778 & 19.05694 & 12.611111 & 34.63097 & 101.5991 & 26.09167 & -5.000000 &  777.69 &  796.7019 &  794.9802 &  19.0118551 &  17.290154\\\\\n",
       "\t 2013-7  & 2013 &  7 & 18.456720 & 13.4698925 & 73.13306 & 20.18414 & 13.922043 & 41.48333 & 101.6426 & 26.09005 & -5.000000 &  813.48 &  815.3629 &  780.9563 &   1.8828653 &  32.523673\\\\\n",
       "\t 2013-8  & 2013 &  8 & 18.438306 & 14.2721774 & 77.24462 & 16.69892 & 12.369624 & 33.75027 & 101.4800 & 26.10349 & -5.000000 &  753.73 &  753.9707 &  721.5844 &   0.2407326 &  32.145599\\\\\n",
       "\t 2013-9  & 2013 &  9 & 15.362778 & 13.0066667 & 86.19306 & 18.24583 & 12.758333 & 28.37847 & 101.0857 & 26.00000 & -5.000000 &  781.38 &  818.0710 &  816.3082 &  36.6909737 &  34.928213\\\\\n",
       "\t 2013-10 & 2013 & 10 &  9.258199 &  7.2736559 & 88.10887 & 18.61156 &  9.689516 & 23.50121 & 102.0566 & 26.00000 & -5.000000 &  888.80 &  908.6000 &  875.0691 &  19.7999923 &  13.730895\\\\\n",
       "\t 2013-11 & 2013 & 11 &  6.241944 &  4.0119444 & 86.06250 & 16.46806 & 11.684722 & 28.37347 & 101.8993 & 26.00000 & -4.925000 &  959.48 &  916.2247 &  882.3284 &  43.2553378 &  77.151553\\\\\n",
       "\t 2013-12 & 2013 & 12 &  2.581048 & -0.2509409 & 83.13172 & 12.79570 & 11.942204 & 23.52258 & 102.4702 & 26.00000 & -5.524194 &  906.63 &  925.7487 &  919.4178 &  19.1186597 &  12.787766\\\\\n",
       "\t 2014-1  & 2014 &  1 &  4.412769 &  3.2709677 & 92.32258 & 18.14516 & 11.424731 & 19.62648 & 102.1822 & 26.00000 & -4.935484 & 1020.12 & 1041.2385 & 1134.1853 &  21.1185298 & 114.065286\\\\\n",
       "\t 2014-2  & 2014 &  2 &  2.517857 & -1.9626488 & 75.16964 & 16.20833 & 14.742560 & 26.35045 & 101.4380 & 26.00000 & -5.476190 &  792.16 &  805.9312 &  774.4097 &  13.7711970 &  17.750251\\\\\n",
       "\t 2014-3  & 2014 &  3 &  6.910887 &  4.0340054 & 82.52823 & 16.27151 & 15.357527 & 26.05161 & 101.4836 & 26.00000 & -4.989247 &  966.89 &  947.9987 &  946.2640 &  18.8913265 &  20.626000\\\\\n",
       "\\end{tabular}\n"
      ],
      "text/markdown": [
       "\n",
       "A tibble: 24 × 17\n",
       "\n",
       "| year_month &lt;fct&gt; | year &lt;dbl&gt; | month &lt;dbl&gt; | avg_temp &lt;dbl&gt; | avg_dewpt_temp &lt;dbl&gt; | avg_rel_hum_pct &lt;dbl&gt; | avg_wind_dir &lt;dbl&gt; | avg_wind_spd &lt;dbl&gt; | avg_visib &lt;dbl&gt; | avg_stn_press &lt;dbl&gt; | avg_hmdx &lt;dbl&gt; | avg_wind_chill &lt;dbl&gt; | consumption &lt;dbl&gt; | pred &lt;dbl&gt; | pred.cv &lt;dbl&gt; | diff_pred &lt;dbl&gt; | diff_pred.cv &lt;dbl&gt; |\n",
       "|---|---|---|---|---|---|---|---|---|---|---|---|---|---|---|---|---|\n",
       "| 2012-4  | 2012 |  4 |  9.467917 |  4.6700000 | 72.71250 | 18.35833 | 13.330556 | 28.73361 | 101.4942 | 26.00000 | -5.000000 |  871.43 |  906.7762 |  900.2612 |  35.3461541 |  28.831220 |\n",
       "| 2012-5  | 2012 |  5 | 12.207661 |  5.4283602 | 64.13306 | 19.77151 | 14.127688 | 35.80578 | 101.8121 | 26.00000 | -5.000000 |  804.93 |  853.5761 |  848.3651 |  48.6461199 |  43.435147 |\n",
       "| 2012-6  | 2012 |  6 | 14.148611 |  8.0479167 | 67.47500 | 16.84722 | 12.858333 | 30.24722 | 101.5036 | 26.00000 | -5.000000 |  708.65 |  757.4191 |  747.7381 |  48.7690677 |  39.088061 |\n",
       "| 2012-7  | 2012 |  7 | 17.513306 | 10.6866935 | 64.81183 | 16.46237 | 12.536290 | 34.40470 | 101.6377 | 26.00134 | -5.000000 |  742.74 |  710.3144 |  732.3747 |  32.4256159 |  10.365263 |\n",
       "| 2012-8  | 2012 |  8 | 18.765860 | 12.6963710 | 68.90726 | 19.10753 | 12.513441 | 38.44758 | 101.5871 | 26.18817 | -5.000000 |  800.16 |  704.6996 |  677.2069 |  95.4604247 | 122.953075 |\n",
       "| 2012-9  | 2012 |  9 | 15.228056 | 10.7530556 | 75.64306 | 21.18333 | 11.200000 | 39.40250 | 101.9425 | 25.99583 | -5.000000 |  720.55 |  792.3250 |  802.2413 |  71.7750030 |  81.691343 |\n",
       "| 2012-10 | 2012 | 10 | 10.389651 |  7.3231183 | 82.15457 | 15.38306 | 12.728495 | 24.50753 | 101.5207 | 26.00000 | -5.000000 |  923.40 |  889.6938 |  864.5537 |  33.7062274 |  58.846265 |\n",
       "| 2012-11 | 2012 | 11 |  7.355139 |  4.8981944 | 85.03750 | 13.90139 | 13.429167 | 23.29736 | 101.4090 | 26.00000 | -4.997222 | 1073.13 |  953.3780 |  930.7573 | 119.7519851 | 142.372718 |\n",
       "| 2012-12 | 2012 | 12 |  4.403495 |  2.4486559 | 87.36425 | 14.22177 | 15.302419 | 19.40054 | 101.1006 | 26.00000 | -4.981183 | 1010.76 | 1055.6594 | 1140.6541 |  44.8994405 | 129.894134 |\n",
       "| 2013-1  | 2013 |  1 |  2.782796 |  1.0475806 | 88.68683 | 14.76344 |  9.239247 | 21.24812 | 102.2628 | 26.00000 | -4.947581 | 1011.84 | 1022.7076 | 1084.6538 |  10.8676380 |  72.813804 |\n",
       "| 2013-2  | 2013 |  2 |  5.486607 |  2.0007440 | 78.65774 | 15.52232 | 13.599702 | 21.79360 | 102.0866 | 26.00000 | -4.997024 | 1002.25 | 1012.6819 | 1010.9968 |  10.4318600 |   8.746829 |\n",
       "| 2013-3  | 2013 |  3 |  7.248522 |  2.7741935 | 73.86156 | 18.46909 | 14.262097 | 30.56694 | 101.9071 | 26.00000 | -4.994624 | 1038.28 |  973.5637 |  967.1316 |  64.7162957 |  71.148431 |\n",
       "| 2013-4  | 2013 |  4 |  9.483333 |  4.7198611 | 73.20972 | 17.96667 | 15.334722 | 31.57889 | 101.9230 | 26.00000 | -5.000000 |  921.55 |  890.4202 |  884.1160 |  31.1298218 |  37.433985 |\n",
       "| 2013-5  | 2013 |  5 | 13.246909 |  8.6884409 | 74.80376 | 17.93280 | 12.856183 | 32.84476 | 101.7741 | 26.00000 | -5.000000 |  791.05 |  828.0169 |  817.7396 |  36.9669464 |  26.689557 |\n",
       "| 2013-6  | 2013 |  6 | 16.060139 | 11.7837500 | 76.42778 | 19.05694 | 12.611111 | 34.63097 | 101.5991 | 26.09167 | -5.000000 |  777.69 |  796.7019 |  794.9802 |  19.0118551 |  17.290154 |\n",
       "| 2013-7  | 2013 |  7 | 18.456720 | 13.4698925 | 73.13306 | 20.18414 | 13.922043 | 41.48333 | 101.6426 | 26.09005 | -5.000000 |  813.48 |  815.3629 |  780.9563 |   1.8828653 |  32.523673 |\n",
       "| 2013-8  | 2013 |  8 | 18.438306 | 14.2721774 | 77.24462 | 16.69892 | 12.369624 | 33.75027 | 101.4800 | 26.10349 | -5.000000 |  753.73 |  753.9707 |  721.5844 |   0.2407326 |  32.145599 |\n",
       "| 2013-9  | 2013 |  9 | 15.362778 | 13.0066667 | 86.19306 | 18.24583 | 12.758333 | 28.37847 | 101.0857 | 26.00000 | -5.000000 |  781.38 |  818.0710 |  816.3082 |  36.6909737 |  34.928213 |\n",
       "| 2013-10 | 2013 | 10 |  9.258199 |  7.2736559 | 88.10887 | 18.61156 |  9.689516 | 23.50121 | 102.0566 | 26.00000 | -5.000000 |  888.80 |  908.6000 |  875.0691 |  19.7999923 |  13.730895 |\n",
       "| 2013-11 | 2013 | 11 |  6.241944 |  4.0119444 | 86.06250 | 16.46806 | 11.684722 | 28.37347 | 101.8993 | 26.00000 | -4.925000 |  959.48 |  916.2247 |  882.3284 |  43.2553378 |  77.151553 |\n",
       "| 2013-12 | 2013 | 12 |  2.581048 | -0.2509409 | 83.13172 | 12.79570 | 11.942204 | 23.52258 | 102.4702 | 26.00000 | -5.524194 |  906.63 |  925.7487 |  919.4178 |  19.1186597 |  12.787766 |\n",
       "| 2014-1  | 2014 |  1 |  4.412769 |  3.2709677 | 92.32258 | 18.14516 | 11.424731 | 19.62648 | 102.1822 | 26.00000 | -4.935484 | 1020.12 | 1041.2385 | 1134.1853 |  21.1185298 | 114.065286 |\n",
       "| 2014-2  | 2014 |  2 |  2.517857 | -1.9626488 | 75.16964 | 16.20833 | 14.742560 | 26.35045 | 101.4380 | 26.00000 | -5.476190 |  792.16 |  805.9312 |  774.4097 |  13.7711970 |  17.750251 |\n",
       "| 2014-3  | 2014 |  3 |  6.910887 |  4.0340054 | 82.52823 | 16.27151 | 15.357527 | 26.05161 | 101.4836 | 26.00000 | -4.989247 |  966.89 |  947.9987 |  946.2640 |  18.8913265 |  20.626000 |\n",
       "\n"
      ],
      "text/plain": [
       "   year_month year month avg_temp  avg_dewpt_temp avg_rel_hum_pct avg_wind_dir\n",
       "1  2012-4     2012  4     9.467917  4.6700000     72.71250        18.35833    \n",
       "2  2012-5     2012  5    12.207661  5.4283602     64.13306        19.77151    \n",
       "3  2012-6     2012  6    14.148611  8.0479167     67.47500        16.84722    \n",
       "4  2012-7     2012  7    17.513306 10.6866935     64.81183        16.46237    \n",
       "5  2012-8     2012  8    18.765860 12.6963710     68.90726        19.10753    \n",
       "6  2012-9     2012  9    15.228056 10.7530556     75.64306        21.18333    \n",
       "7  2012-10    2012 10    10.389651  7.3231183     82.15457        15.38306    \n",
       "8  2012-11    2012 11     7.355139  4.8981944     85.03750        13.90139    \n",
       "9  2012-12    2012 12     4.403495  2.4486559     87.36425        14.22177    \n",
       "10 2013-1     2013  1     2.782796  1.0475806     88.68683        14.76344    \n",
       "11 2013-2     2013  2     5.486607  2.0007440     78.65774        15.52232    \n",
       "12 2013-3     2013  3     7.248522  2.7741935     73.86156        18.46909    \n",
       "13 2013-4     2013  4     9.483333  4.7198611     73.20972        17.96667    \n",
       "14 2013-5     2013  5    13.246909  8.6884409     74.80376        17.93280    \n",
       "15 2013-6     2013  6    16.060139 11.7837500     76.42778        19.05694    \n",
       "16 2013-7     2013  7    18.456720 13.4698925     73.13306        20.18414    \n",
       "17 2013-8     2013  8    18.438306 14.2721774     77.24462        16.69892    \n",
       "18 2013-9     2013  9    15.362778 13.0066667     86.19306        18.24583    \n",
       "19 2013-10    2013 10     9.258199  7.2736559     88.10887        18.61156    \n",
       "20 2013-11    2013 11     6.241944  4.0119444     86.06250        16.46806    \n",
       "21 2013-12    2013 12     2.581048 -0.2509409     83.13172        12.79570    \n",
       "22 2014-1     2014  1     4.412769  3.2709677     92.32258        18.14516    \n",
       "23 2014-2     2014  2     2.517857 -1.9626488     75.16964        16.20833    \n",
       "24 2014-3     2014  3     6.910887  4.0340054     82.52823        16.27151    \n",
       "   avg_wind_spd avg_visib avg_stn_press avg_hmdx avg_wind_chill consumption\n",
       "1  13.330556    28.73361  101.4942      26.00000 -5.000000       871.43    \n",
       "2  14.127688    35.80578  101.8121      26.00000 -5.000000       804.93    \n",
       "3  12.858333    30.24722  101.5036      26.00000 -5.000000       708.65    \n",
       "4  12.536290    34.40470  101.6377      26.00134 -5.000000       742.74    \n",
       "5  12.513441    38.44758  101.5871      26.18817 -5.000000       800.16    \n",
       "6  11.200000    39.40250  101.9425      25.99583 -5.000000       720.55    \n",
       "7  12.728495    24.50753  101.5207      26.00000 -5.000000       923.40    \n",
       "8  13.429167    23.29736  101.4090      26.00000 -4.997222      1073.13    \n",
       "9  15.302419    19.40054  101.1006      26.00000 -4.981183      1010.76    \n",
       "10  9.239247    21.24812  102.2628      26.00000 -4.947581      1011.84    \n",
       "11 13.599702    21.79360  102.0866      26.00000 -4.997024      1002.25    \n",
       "12 14.262097    30.56694  101.9071      26.00000 -4.994624      1038.28    \n",
       "13 15.334722    31.57889  101.9230      26.00000 -5.000000       921.55    \n",
       "14 12.856183    32.84476  101.7741      26.00000 -5.000000       791.05    \n",
       "15 12.611111    34.63097  101.5991      26.09167 -5.000000       777.69    \n",
       "16 13.922043    41.48333  101.6426      26.09005 -5.000000       813.48    \n",
       "17 12.369624    33.75027  101.4800      26.10349 -5.000000       753.73    \n",
       "18 12.758333    28.37847  101.0857      26.00000 -5.000000       781.38    \n",
       "19  9.689516    23.50121  102.0566      26.00000 -5.000000       888.80    \n",
       "20 11.684722    28.37347  101.8993      26.00000 -4.925000       959.48    \n",
       "21 11.942204    23.52258  102.4702      26.00000 -5.524194       906.63    \n",
       "22 11.424731    19.62648  102.1822      26.00000 -4.935484      1020.12    \n",
       "23 14.742560    26.35045  101.4380      26.00000 -5.476190       792.16    \n",
       "24 15.357527    26.05161  101.4836      26.00000 -4.989247       966.89    \n",
       "   pred      pred.cv   diff_pred   diff_pred.cv\n",
       "1   906.7762  900.2612  35.3461541  28.831220  \n",
       "2   853.5761  848.3651  48.6461199  43.435147  \n",
       "3   757.4191  747.7381  48.7690677  39.088061  \n",
       "4   710.3144  732.3747  32.4256159  10.365263  \n",
       "5   704.6996  677.2069  95.4604247 122.953075  \n",
       "6   792.3250  802.2413  71.7750030  81.691343  \n",
       "7   889.6938  864.5537  33.7062274  58.846265  \n",
       "8   953.3780  930.7573 119.7519851 142.372718  \n",
       "9  1055.6594 1140.6541  44.8994405 129.894134  \n",
       "10 1022.7076 1084.6538  10.8676380  72.813804  \n",
       "11 1012.6819 1010.9968  10.4318600   8.746829  \n",
       "12  973.5637  967.1316  64.7162957  71.148431  \n",
       "13  890.4202  884.1160  31.1298218  37.433985  \n",
       "14  828.0169  817.7396  36.9669464  26.689557  \n",
       "15  796.7019  794.9802  19.0118551  17.290154  \n",
       "16  815.3629  780.9563   1.8828653  32.523673  \n",
       "17  753.9707  721.5844   0.2407326  32.145599  \n",
       "18  818.0710  816.3082  36.6909737  34.928213  \n",
       "19  908.6000  875.0691  19.7999923  13.730895  \n",
       "20  916.2247  882.3284  43.2553378  77.151553  \n",
       "21  925.7487  919.4178  19.1186597  12.787766  \n",
       "22 1041.2385 1134.1853  21.1185298 114.065286  \n",
       "23  805.9312  774.4097  13.7711970  17.750251  \n",
       "24  947.9987  946.2640  18.8913265  20.626000  "
      ]
     },
     "metadata": {},
     "output_type": "display_data"
    }
   ],
   "source": [
    "WEMonthDF  %>% \n",
    "    mutate(diff_pred = abs(pred - consumption), diff_pred.cv = abs(pred.cv - consumption))"
   ]
  }
 ],
 "metadata": {
  "kernelspec": {
   "display_name": "R",
   "language": "R",
   "name": "ir"
  },
  "language_info": {
   "codemirror_mode": "r",
   "file_extension": ".r",
   "mimetype": "text/x-r-source",
   "name": "R",
   "pygments_lexer": "r",
   "version": "4.2.2"
  },
  "orig_nbformat": 4
 },
 "nbformat": 4,
 "nbformat_minor": 2
}
