{
 "cells": [
  {
   "attachments": {},
   "cell_type": "markdown",
   "metadata": {},
   "source": [
    "# Electricity consumtpion prediction"
   ]
  },
  {
   "attachments": {},
   "cell_type": "markdown",
   "metadata": {},
   "source": [
    "## Sections\n",
    "1. Read and prepare datasets\n",
    "2. Linear regression model\n",
    "    - Define the model\n",
    "    - Define the Cross-validation plan\n",
    "    - Train the model\n",
    "    - Evaluate the model\n",
    "    - If necessary, refine the model\n",
    "3. Random forest model\n",
    "    - Define the model\n",
    "    - Define the Cross-validation plan\n",
    "    - Train the model\n",
    "    - Evaluate the model\n",
    "    - If necessary, refine the model\n",
    "4. Compare performances of both models\n",
    "5. Interpret the results"
   ]
  },
  {
   "attachments": {},
   "cell_type": "markdown",
   "metadata": {},
   "source": [
    "### 1. Read and prepare datasets"
   ]
  },
  {
   "attachments": {},
   "cell_type": "markdown",
   "metadata": {},
   "source": [
    "##### Import libraries"
   ]
  },
  {
   "cell_type": "code",
   "execution_count": 3,
   "metadata": {
    "vscode": {
     "languageId": "r"
    }
   },
   "outputs": [],
   "source": [
    "# Import libraries for plotting, reading and wrangling data\n",
    "library(tidyverse)\n",
    "library(scales)\n",
    "library(here)"
   ]
  },
  {
   "attachments": {},
   "cell_type": "markdown",
   "metadata": {},
   "source": [
    "##### Read datasets"
   ]
  },
  {
   "cell_type": "code",
   "execution_count": 6,
   "metadata": {
    "vscode": {
     "languageId": "r"
    }
   },
   "outputs": [],
   "source": [
    "# Read electricity datasets: Hourly, Daily, Monthly\n",
    "ElecHourDF  <-  read_csv(here::here(\"curated/electricity\", \"gold_hourly_electricity.csv\"),   show_col_types = FALSE)\n",
    "ElecDayDF   <-  read_csv(here::here(\"curated/electricity\", \"gold_daily_electricity.csv\"),    show_col_types = FALSE)\n",
    "ElecMonthDF <-  read_csv(here::here(\"curated/electricity\", \"gold_monthly_electricity.csv\"),  show_col_types = FALSE) %>%\n",
    "                mutate(year_month = factor(paste(year, month, sep = \"-\")))\n",
    "\n",
    "# Read weather datasets: Hourly, Daily, Monthly\n",
    "WeatherHourDF  <-   read_csv(here::here(\"curated/weather\", \"gold_hourly_weather.csv\"),   show_col_types = FALSE)\n",
    "WeatherDayDF   <-   read_csv(here::here(\"curated/weather\", \"gold_daily_weather.csv\"),    show_col_types = FALSE)\n",
    "WeatherMonthDF <-   read_csv(here::here(\"curated/weather\", \"gold_monthly_weather.csv\"),  show_col_types = FALSE) %>%\n",
    "                    mutate(year_month = factor(paste(year, month, sep = \"-\")))"
   ]
  },
  {
   "attachments": {},
   "cell_type": "markdown",
   "metadata": {},
   "source": [
    "##### Prepare dataframes"
   ]
  },
  {
   "cell_type": "code",
   "execution_count": 7,
   "metadata": {
    "vscode": {
     "languageId": "r"
    }
   },
   "outputs": [],
   "source": [
    "# Join hourly weather and electricity data\n",
    "WEHourDF <- WeatherHourDF %>%\n",
    "    left_join(ElecHourDF,   by = c(\"year\", \"month\", \"hour\"), suffix = c(\"\", \"_elec\")) %>%\n",
    "    select(year, month, hour, avg_temp, avg_dewpt_temp, avg_rel_hum_pct, avg_wind_dir, avg_wind_spd, avg_visib, avg_stn_press, avg_hmdx, avg_wind_chill, consumption)\n",
    "# Join daily weather and electricity data\n",
    "WEDayDF <- WeatherDayDF %>%\n",
    "    left_join(ElecDayDF,   by = c(\"date\", \"year\", \"month\", \"day\"), suffix = c(\"\", \"_elec\")) %>%\n",
    "    select(date, year, month, day, avg_temp, avg_dewpt_temp, avg_rel_hum_pct, avg_wind_dir, avg_wind_spd, avg_visib, avg_stn_press, avg_hmdx, avg_wind_chill, consumption)\n",
    "# Join monthly weather and electricity data\n",
    "WEMonthDF <- WeatherMonthDF %>%\n",
    "    left_join(ElecMonthDF,   by = c(\"year_month\", \"year\", \"month\"), suffix = c(\"\", \"_elec\")) %>%\n",
    "    select(year_month, year, month, avg_temp, avg_dewpt_temp, avg_rel_hum_pct, avg_wind_dir, avg_wind_spd, avg_visib, avg_stn_press, avg_hmdx, avg_wind_chill, consumption)"
   ]
  },
  {
   "attachments": {},
   "cell_type": "markdown",
   "metadata": {},
   "source": [
    "### 2. Linear regression model"
   ]
  },
  {
   "attachments": {},
   "cell_type": "markdown",
   "metadata": {},
   "source": [
    "##### Define the linear regression model"
   ]
  },
  {
   "cell_type": "code",
   "execution_count": 9,
   "metadata": {
    "vscode": {
     "languageId": "r"
    }
   },
   "outputs": [],
   "source": [
    "#=========================\n",
    "# FORMULAS\n",
    "#=========================\n",
    "# Define the model formula with no interactions between independant variables\n",
    "fmla_no_inter <- as.formula(\"consumption ~ avg_temp + avg_dewpt_temp + avg_rel_hum_pct + avg_wind_dir + avg_visib\")\n",
    "\n",
    "# Define the model formula with interactions between independant variables\n",
    "fmla_inter <- as.formula(\"consumption ~ avg_temp * avg_dewpt_temp * avg_rel_hum_pct * avg_wind_dir * avg_visib\")\n",
    "\n",
    "#=========================\n",
    "# LINEAR REGRESSION MODELS\n",
    "#=========================\n",
    "# Define the linear regression model based on hourly consumption\n",
    "lin_reg_mdl_hour_no_inter   <- lm(fmla_no_inter,    data = WEHourDF)\n",
    "lin_reg_mdl_hour_inter      <- lm(fmla_inter,       data = WEHourDF)\n",
    "\n",
    "# Define the linear regression model based on daily consumption\n",
    "lin_reg_mdl_day_no_inter   <- lm(fmla_no_inter,     data = WEDayDF)\n",
    "lin_reg_mdl_day_inter      <- lm(fmla_inter,        data = WEDayDF)\n",
    "\n",
    "# Define the linear regression model based on monthly consumption\n",
    "lin_reg_mdl_month_no_inter   <- lm(fmla_no_inter,     data = WEMonthDF)\n",
    "lin_reg_mdl_month_inter      <- lm(fmla_inter,        data = WEMonthDF)"
   ]
  },
  {
   "cell_type": "code",
   "execution_count": 21,
   "metadata": {
    "vscode": {
     "languageId": "r"
    }
   },
   "outputs": [
    {
     "name": "stdout",
     "output_type": "stream",
     "text": [
      "[1] \"R-Squared\"\n",
      "[1] 0.0322931\n",
      "[1] 0.0370133\n",
      "[1] 0.2404551\n",
      "[1] 0.3702803\n",
      "[1] 0.6798885\n",
      "[1] 1\n",
      "[1] \"Adjusted R-Squared\"\n",
      "[1] 0.03228402\n",
      "[1] 0.03695727\n",
      "[1] 0.2352097\n",
      "[1] 0.3423128\n",
      "[1] 0.5909687\n",
      "[1] NaN\n"
     ]
    }
   ],
   "source": [
    "print(\"R-Squared\")\n",
    "print(summary(lin_reg_mdl_hour_no_inter)$r.squared)\n",
    "print(summary(lin_reg_mdl_hour_inter)$r.squared)\n",
    "print(summary(lin_reg_mdl_day_no_inter)$r.squared)\n",
    "print(summary(lin_reg_mdl_day_inter)$r.squared)\n",
    "print(summary(lin_reg_mdl_month_no_inter)$r.squared)\n",
    "print(summary(lin_reg_mdl_month_inter)$r.squared)\n",
    "print(\"Adjusted R-Squared\")\n",
    "print(summary(lin_reg_mdl_hour_no_inter)$adj.r.squared)\n",
    "print(summary(lin_reg_mdl_hour_inter)$adj.r.squared)\n",
    "print(summary(lin_reg_mdl_day_no_inter)$adj.r.squared)\n",
    "print(summary(lin_reg_mdl_day_inter)$adj.r.squared)\n",
    "print(summary(lin_reg_mdl_month_no_inter)$adj.r.squared)\n",
    "print(summary(lin_reg_mdl_month_inter)$adj.r.squared)"
   ]
  }
 ],
 "metadata": {
  "kernelspec": {
   "display_name": "R",
   "language": "R",
   "name": "ir"
  },
  "language_info": {
   "codemirror_mode": "r",
   "file_extension": ".r",
   "mimetype": "text/x-r-source",
   "name": "R",
   "pygments_lexer": "r",
   "version": "4.2.2"
  },
  "orig_nbformat": 4
 },
 "nbformat": 4,
 "nbformat_minor": 2
}
