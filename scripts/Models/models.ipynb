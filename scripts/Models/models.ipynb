{
 "cells": [
  {
   "cell_type": "code",
   "execution_count": 10,
   "metadata": {
    "vscode": {
     "languageId": "r"
    }
   },
   "outputs": [],
   "source": [
    "library(dplyr)\n",
    "library(readr)\n",
    "library(ranger)\n",
    "library(broom)"
   ]
  },
  {
   "cell_type": "code",
   "execution_count": 3,
   "metadata": {
    "vscode": {
     "languageId": "r"
    }
   },
   "outputs": [],
   "source": [
    "energy      <- \"electricity\"\n",
    "hourlyPath  <- paste0(\"../../curated/\", energy, \"/gold_hourly_\",     energy, \".csv\")\n",
    "dailyPath   <- paste0(\"../../curated/\", energy, \"/gold_daily_\",      energy, \".csv\")\n",
    "monthlyPath <- paste0(\"../../curated/\", energy, \"/gold_monthly_\",    energy, \".csv\")\n"
   ]
  },
  {
   "cell_type": "code",
   "execution_count": 4,
   "metadata": {
    "vscode": {
     "languageId": "r"
    }
   },
   "outputs": [],
   "source": [
    "# Hourly\n",
    "energyHourly    <-  read_csv(hourlyPath, show_col_types = FALSE)\n",
    "weatherHourly   <-  read_csv(\"../../curated/weather/gold_hourly_weather.csv\", show_col_types = FALSE)\n",
    "\n",
    "# Daily\n",
    "energyDaily     <-  read_csv(dailyPath, show_col_types = FALSE)\n",
    "weatherDaily    <-  read_csv(\"../../curated/weather/gold_daily_weather.csv\", show_col_types = FALSE)\n",
    "\n",
    "# Monthly\n",
    "energyMonthly   <-  read_csv(monthlyPath, show_col_types = FALSE) %>%\n",
    "                    mutate(year_month = factor(paste(year, month, sep = \"-\")))\n",
    "weatherMonthly  <-  read_csv(\"../../curated/weather/gold_monthly_weather.csv\", show_col_types = FALSE) %>%\n",
    "                    mutate(year_month = factor(paste(year, month, sep = \"-\")))"
   ]
  },
  {
   "cell_type": "code",
   "execution_count": 5,
   "metadata": {
    "vscode": {
     "languageId": "r"
    }
   },
   "outputs": [],
   "source": [
    "dfHourly <- weatherHourly %>%\n",
    "    left_join(energyHourly,   by = c(\"year\", \"month\", \"hour\"), suffix = c(\"\", \"_energy\")) %>%\n",
    "    select(\n",
    "        year, \n",
    "        month, \n",
    "        hour,\n",
    "        avg_temp, avg_dewpt_temp,\n",
    "        avg_rel_hum_pct,\n",
    "        avg_wind_dir,\n",
    "        avg_wind_spd,\n",
    "        avg_visib,\n",
    "        avg_stn_press,\n",
    "        avg_hmdx,\n",
    "        avg_wind_chill,\n",
    "        consumption\n",
    "    )\n",
    "\n",
    "dfDaily <- weatherDaily %>%\n",
    "    left_join(energyDaily,   by = c(\"year\", \"month\", \"day\", \"date\"), suffix = c(\"\", \"_energy\")) %>%\n",
    "    select(\n",
    "        year, \n",
    "        month,\n",
    "        date,\n",
    "        day,\n",
    "        avg_temp,\n",
    "        avg_dewpt_temp,\n",
    "        avg_rel_hum_pct,\n",
    "        avg_wind_dir,\n",
    "        avg_wind_spd,\n",
    "        avg_visib,\n",
    "        avg_stn_press,\n",
    "        avg_hmdx,\n",
    "        avg_wind_chill,\n",
    "        consumption\n",
    "    )\n",
    "\n",
    "dfMonthly <- weatherMonthly %>%\n",
    "    left_join(energyMonthly,   by = c(\"year\", \"month\"), suffix = c(\"\", \"_energy\")) %>%\n",
    "    select(\n",
    "        year, \n",
    "        month,\n",
    "        year_month,\n",
    "        avg_temp,\n",
    "        avg_dewpt_temp,\n",
    "        avg_rel_hum_pct,\n",
    "        avg_wind_dir,\n",
    "        avg_wind_spd,\n",
    "        avg_visib,\n",
    "        avg_stn_press,\n",
    "        avg_hmdx,\n",
    "        avg_wind_chill,\n",
    "        consumption\n",
    "    )"
   ]
  },
  {
   "attachments": {},
   "cell_type": "markdown",
   "metadata": {},
   "source": [
    "# Correlations"
   ]
  },
  {
   "cell_type": "code",
   "execution_count": 140,
   "metadata": {
    "vscode": {
     "languageId": "r"
    }
   },
   "outputs": [
    {
     "data": {
      "text/html": [
       "<table class=\"dataframe\">\n",
       "<caption>A data.frame: 10 × 10</caption>\n",
       "<thead>\n",
       "\t<tr><th></th><th scope=col>avg_temp</th><th scope=col>avg_dewpt_temp</th><th scope=col>avg_rel_hum_pct</th><th scope=col>avg_wind_dir</th><th scope=col>avg_wind_spd</th><th scope=col>avg_visib</th><th scope=col>avg_stn_press</th><th scope=col>avg_hmdx</th><th scope=col>avg_wind_chill</th><th scope=col>consumption</th></tr>\n",
       "\t<tr><th></th><th scope=col>&lt;dbl&gt;</th><th scope=col>&lt;dbl&gt;</th><th scope=col>&lt;dbl&gt;</th><th scope=col>&lt;dbl&gt;</th><th scope=col>&lt;dbl&gt;</th><th scope=col>&lt;dbl&gt;</th><th scope=col>&lt;dbl&gt;</th><th scope=col>&lt;dbl&gt;</th><th scope=col>&lt;dbl&gt;</th><th scope=col>&lt;dbl&gt;</th></tr>\n",
       "</thead>\n",
       "<tbody>\n",
       "\t<tr><th scope=row>avg_temp</th><td> 1.00000000</td><td> 0.9612256</td><td>-0.57812261</td><td> 0.61332053</td><td>-0.03499943</td><td> 0.8332301</td><td>-0.37023814</td><td> 0.60729146</td><td> 0.35561567</td><td>-0.7485483</td></tr>\n",
       "\t<tr><th scope=row>avg_dewpt_temp</th><td> 0.96122560</td><td> 1.0000000</td><td>-0.33153291</td><td> 0.56618256</td><td>-0.15373840</td><td> 0.7117861</td><td>-0.37786440</td><td> 0.60228328</td><td> 0.43264625</td><td>-0.6487659</td></tr>\n",
       "\t<tr><th scope=row>avg_rel_hum_pct</th><td>-0.57812261</td><td>-0.3315329</td><td> 1.00000000</td><td>-0.42764826</td><td>-0.36170244</td><td>-0.7476164</td><td> 0.15724993</td><td>-0.28497871</td><td> 0.04362704</td><td> 0.6255543</td></tr>\n",
       "\t<tr><th scope=row>avg_wind_dir</th><td> 0.61332053</td><td> 0.5661826</td><td>-0.42764826</td><td> 1.00000000</td><td>-0.04094928</td><td> 0.7294032</td><td>-0.03299416</td><td> 0.31543055</td><td> 0.36650973</td><td>-0.5059482</td></tr>\n",
       "\t<tr><th scope=row>avg_wind_spd</th><td>-0.03499943</td><td>-0.1537384</td><td>-0.36170244</td><td>-0.04094928</td><td> 1.00000000</td><td> 0.1081804</td><td>-0.51351223</td><td>-0.03386936</td><td>-0.12416074</td><td> 0.0807484</td></tr>\n",
       "\t<tr><th scope=row>avg_visib</th><td> 0.83323007</td><td> 0.7117861</td><td>-0.74761639</td><td> 0.72940317</td><td> 0.10818041</td><td> 1.0000000</td><td>-0.14907113</td><td> 0.54415175</td><td> 0.13566132</td><td>-0.7191936</td></tr>\n",
       "\t<tr><th scope=row>avg_stn_press</th><td>-0.37023814</td><td>-0.3778644</td><td> 0.15724993</td><td>-0.03299416</td><td>-0.51351223</td><td>-0.1490711</td><td> 1.00000000</td><td>-0.18090134</td><td>-0.17207546</td><td> 0.2626833</td></tr>\n",
       "\t<tr><th scope=row>avg_hmdx</th><td> 0.60729146</td><td> 0.6022833</td><td>-0.28497871</td><td> 0.31543055</td><td>-0.03386936</td><td> 0.5441518</td><td>-0.18090134</td><td> 1.00000000</td><td> 0.09303448</td><td>-0.3382928</td></tr>\n",
       "\t<tr><th scope=row>avg_wind_chill</th><td> 0.35561567</td><td> 0.4326462</td><td> 0.04362704</td><td> 0.36650973</td><td>-0.12416074</td><td> 0.1356613</td><td>-0.17207546</td><td> 0.09303448</td><td> 1.00000000</td><td> 0.1420389</td></tr>\n",
       "\t<tr><th scope=row>consumption</th><td>-0.74854830</td><td>-0.6487659</td><td> 0.62555428</td><td>-0.50594822</td><td> 0.08074840</td><td>-0.7191936</td><td> 0.26268331</td><td>-0.33829285</td><td> 0.14203891</td><td> 1.0000000</td></tr>\n",
       "</tbody>\n",
       "</table>\n"
      ],
      "text/latex": [
       "A data.frame: 10 × 10\n",
       "\\begin{tabular}{r|llllllllll}\n",
       "  & avg\\_temp & avg\\_dewpt\\_temp & avg\\_rel\\_hum\\_pct & avg\\_wind\\_dir & avg\\_wind\\_spd & avg\\_visib & avg\\_stn\\_press & avg\\_hmdx & avg\\_wind\\_chill & consumption\\\\\n",
       "  & <dbl> & <dbl> & <dbl> & <dbl> & <dbl> & <dbl> & <dbl> & <dbl> & <dbl> & <dbl>\\\\\n",
       "\\hline\n",
       "\tavg\\_temp &  1.00000000 &  0.9612256 & -0.57812261 &  0.61332053 & -0.03499943 &  0.8332301 & -0.37023814 &  0.60729146 &  0.35561567 & -0.7485483\\\\\n",
       "\tavg\\_dewpt\\_temp &  0.96122560 &  1.0000000 & -0.33153291 &  0.56618256 & -0.15373840 &  0.7117861 & -0.37786440 &  0.60228328 &  0.43264625 & -0.6487659\\\\\n",
       "\tavg\\_rel\\_hum\\_pct & -0.57812261 & -0.3315329 &  1.00000000 & -0.42764826 & -0.36170244 & -0.7476164 &  0.15724993 & -0.28497871 &  0.04362704 &  0.6255543\\\\\n",
       "\tavg\\_wind\\_dir &  0.61332053 &  0.5661826 & -0.42764826 &  1.00000000 & -0.04094928 &  0.7294032 & -0.03299416 &  0.31543055 &  0.36650973 & -0.5059482\\\\\n",
       "\tavg\\_wind\\_spd & -0.03499943 & -0.1537384 & -0.36170244 & -0.04094928 &  1.00000000 &  0.1081804 & -0.51351223 & -0.03386936 & -0.12416074 &  0.0807484\\\\\n",
       "\tavg\\_visib &  0.83323007 &  0.7117861 & -0.74761639 &  0.72940317 &  0.10818041 &  1.0000000 & -0.14907113 &  0.54415175 &  0.13566132 & -0.7191936\\\\\n",
       "\tavg\\_stn\\_press & -0.37023814 & -0.3778644 &  0.15724993 & -0.03299416 & -0.51351223 & -0.1490711 &  1.00000000 & -0.18090134 & -0.17207546 &  0.2626833\\\\\n",
       "\tavg\\_hmdx &  0.60729146 &  0.6022833 & -0.28497871 &  0.31543055 & -0.03386936 &  0.5441518 & -0.18090134 &  1.00000000 &  0.09303448 & -0.3382928\\\\\n",
       "\tavg\\_wind\\_chill &  0.35561567 &  0.4326462 &  0.04362704 &  0.36650973 & -0.12416074 &  0.1356613 & -0.17207546 &  0.09303448 &  1.00000000 &  0.1420389\\\\\n",
       "\tconsumption & -0.74854830 & -0.6487659 &  0.62555428 & -0.50594822 &  0.08074840 & -0.7191936 &  0.26268331 & -0.33829285 &  0.14203891 &  1.0000000\\\\\n",
       "\\end{tabular}\n"
      ],
      "text/markdown": [
       "\n",
       "A data.frame: 10 × 10\n",
       "\n",
       "| <!--/--> | avg_temp &lt;dbl&gt; | avg_dewpt_temp &lt;dbl&gt; | avg_rel_hum_pct &lt;dbl&gt; | avg_wind_dir &lt;dbl&gt; | avg_wind_spd &lt;dbl&gt; | avg_visib &lt;dbl&gt; | avg_stn_press &lt;dbl&gt; | avg_hmdx &lt;dbl&gt; | avg_wind_chill &lt;dbl&gt; | consumption &lt;dbl&gt; |\n",
       "|---|---|---|---|---|---|---|---|---|---|---|\n",
       "| avg_temp |  1.00000000 |  0.9612256 | -0.57812261 |  0.61332053 | -0.03499943 |  0.8332301 | -0.37023814 |  0.60729146 |  0.35561567 | -0.7485483 |\n",
       "| avg_dewpt_temp |  0.96122560 |  1.0000000 | -0.33153291 |  0.56618256 | -0.15373840 |  0.7117861 | -0.37786440 |  0.60228328 |  0.43264625 | -0.6487659 |\n",
       "| avg_rel_hum_pct | -0.57812261 | -0.3315329 |  1.00000000 | -0.42764826 | -0.36170244 | -0.7476164 |  0.15724993 | -0.28497871 |  0.04362704 |  0.6255543 |\n",
       "| avg_wind_dir |  0.61332053 |  0.5661826 | -0.42764826 |  1.00000000 | -0.04094928 |  0.7294032 | -0.03299416 |  0.31543055 |  0.36650973 | -0.5059482 |\n",
       "| avg_wind_spd | -0.03499943 | -0.1537384 | -0.36170244 | -0.04094928 |  1.00000000 |  0.1081804 | -0.51351223 | -0.03386936 | -0.12416074 |  0.0807484 |\n",
       "| avg_visib |  0.83323007 |  0.7117861 | -0.74761639 |  0.72940317 |  0.10818041 |  1.0000000 | -0.14907113 |  0.54415175 |  0.13566132 | -0.7191936 |\n",
       "| avg_stn_press | -0.37023814 | -0.3778644 |  0.15724993 | -0.03299416 | -0.51351223 | -0.1490711 |  1.00000000 | -0.18090134 | -0.17207546 |  0.2626833 |\n",
       "| avg_hmdx |  0.60729146 |  0.6022833 | -0.28497871 |  0.31543055 | -0.03386936 |  0.5441518 | -0.18090134 |  1.00000000 |  0.09303448 | -0.3382928 |\n",
       "| avg_wind_chill |  0.35561567 |  0.4326462 |  0.04362704 |  0.36650973 | -0.12416074 |  0.1356613 | -0.17207546 |  0.09303448 |  1.00000000 |  0.1420389 |\n",
       "| consumption | -0.74854830 | -0.6487659 |  0.62555428 | -0.50594822 |  0.08074840 | -0.7191936 |  0.26268331 | -0.33829285 |  0.14203891 |  1.0000000 |\n",
       "\n"
      ],
      "text/plain": [
       "                avg_temp    avg_dewpt_temp avg_rel_hum_pct avg_wind_dir\n",
       "avg_temp         1.00000000  0.9612256     -0.57812261      0.61332053 \n",
       "avg_dewpt_temp   0.96122560  1.0000000     -0.33153291      0.56618256 \n",
       "avg_rel_hum_pct -0.57812261 -0.3315329      1.00000000     -0.42764826 \n",
       "avg_wind_dir     0.61332053  0.5661826     -0.42764826      1.00000000 \n",
       "avg_wind_spd    -0.03499943 -0.1537384     -0.36170244     -0.04094928 \n",
       "avg_visib        0.83323007  0.7117861     -0.74761639      0.72940317 \n",
       "avg_stn_press   -0.37023814 -0.3778644      0.15724993     -0.03299416 \n",
       "avg_hmdx         0.60729146  0.6022833     -0.28497871      0.31543055 \n",
       "avg_wind_chill   0.35561567  0.4326462      0.04362704      0.36650973 \n",
       "consumption     -0.74854830 -0.6487659      0.62555428     -0.50594822 \n",
       "                avg_wind_spd avg_visib  avg_stn_press avg_hmdx   \n",
       "avg_temp        -0.03499943   0.8332301 -0.37023814    0.60729146\n",
       "avg_dewpt_temp  -0.15373840   0.7117861 -0.37786440    0.60228328\n",
       "avg_rel_hum_pct -0.36170244  -0.7476164  0.15724993   -0.28497871\n",
       "avg_wind_dir    -0.04094928   0.7294032 -0.03299416    0.31543055\n",
       "avg_wind_spd     1.00000000   0.1081804 -0.51351223   -0.03386936\n",
       "avg_visib        0.10818041   1.0000000 -0.14907113    0.54415175\n",
       "avg_stn_press   -0.51351223  -0.1490711  1.00000000   -0.18090134\n",
       "avg_hmdx        -0.03386936   0.5441518 -0.18090134    1.00000000\n",
       "avg_wind_chill  -0.12416074   0.1356613 -0.17207546    0.09303448\n",
       "consumption      0.08074840  -0.7191936  0.26268331   -0.33829285\n",
       "                avg_wind_chill consumption\n",
       "avg_temp         0.35561567    -0.7485483 \n",
       "avg_dewpt_temp   0.43264625    -0.6487659 \n",
       "avg_rel_hum_pct  0.04362704     0.6255543 \n",
       "avg_wind_dir     0.36650973    -0.5059482 \n",
       "avg_wind_spd    -0.12416074     0.0807484 \n",
       "avg_visib        0.13566132    -0.7191936 \n",
       "avg_stn_press   -0.17207546     0.2626833 \n",
       "avg_hmdx         0.09303448    -0.3382928 \n",
       "avg_wind_chill   1.00000000     0.1420389 \n",
       "consumption      0.14203891     1.0000000 "
      ]
     },
     "metadata": {},
     "output_type": "display_data"
    }
   ],
   "source": [
    "mat <- matrix(data = NA, nrow = 10, ncol = 10)\n",
    "cols <- colnames(dfMonthly)\n",
    "cols <- cols[!(cols %in% c(\"year\", \"month\", \"year_month\"))]\n",
    "\n",
    "for(col1 in as.list(enumerate(cols))) {\n",
    "    for(col2 in as.list(enumerate(cols))){\n",
    "        myCor <- cor(dfMonthly[col1$value], dfMonthly[col2$value])\n",
    "        mat[col1$index, col2$index] <- myCor\n",
    "    }\n",
    "}\n",
    "df <- as.data.frame(mat, row.names = cols)\n",
    "colnames(df) <- cols\n",
    "\n",
    "df"
   ]
  },
  {
   "attachments": {},
   "cell_type": "markdown",
   "metadata": {},
   "source": [
    "# Machine Learning Model: Linear Regression"
   ]
  },
  {
   "cell_type": "code",
   "execution_count": 6,
   "metadata": {
    "vscode": {
     "languageId": "r"
    }
   },
   "outputs": [],
   "source": [
    "mdl_hr <-   lm(consumption ~ avg_temp * avg_dewpt_temp * avg_rel_hum_pct * avg_hmdx, data = dfHourly)\n",
    "mdl_d <-    lm(consumption ~ avg_temp * avg_dewpt_temp * avg_rel_hum_pct * avg_hmdx, data = dfDaily)\n",
    "mdl_m <-    lm(consumption ~ avg_temp * avg_dewpt_temp * avg_rel_hum_pct * avg_hmdx, data = dfMonthly)\n",
    "\n",
    "# mdl_hr <-   lm(consumption ~ avg_temp * avg_dewpt_temp, data = dfHourly)\n",
    "# mdl_d <-    lm(consumption ~ avg_temp * avg_dewpt_temp, data = dfDaily)\n",
    "# mdl_m <-    lm(consumption ~ avg_temp * avg_dewpt_temp, data = dfMonthly)"
   ]
  },
  {
   "cell_type": "code",
   "execution_count": 7,
   "metadata": {
    "vscode": {
     "languageId": "r"
    }
   },
   "outputs": [],
   "source": [
    "mdl_rf <- ranger(consumption ~ avg_temp * avg_dewpt_temp * avg_rel_hum_pct * avg_hmdx, data = dfMonthly)"
   ]
  },
  {
   "cell_type": "code",
   "execution_count": 9,
   "metadata": {
    "vscode": {
     "languageId": "r"
    }
   },
   "outputs": [
    {
     "data": {
      "text/html": [
       "0.682782590333042"
      ],
      "text/latex": [
       "0.682782590333042"
      ],
      "text/markdown": [
       "0.682782590333042"
      ],
      "text/plain": [
       "[1] 0.6827826"
      ]
     },
     "metadata": {},
     "output_type": "display_data"
    }
   ],
   "source": [
    "mdl_rf$r.squared"
   ]
  },
  {
   "cell_type": "code",
   "execution_count": 24,
   "metadata": {
    "vscode": {
     "languageId": "r"
    }
   },
   "outputs": [
    {
     "data": {
      "text/html": [
       "<table class=\"dataframe\">\n",
       "<caption>A data.frame: 3 × 3</caption>\n",
       "<thead>\n",
       "\t<tr><th scope=col>Models</th><th scope=col>R2</th><th scope=col>Adj_R2</th></tr>\n",
       "\t<tr><th scope=col>&lt;chr&gt;</th><th scope=col>&lt;dbl&gt;</th><th scope=col>&lt;dbl&gt;</th></tr>\n",
       "</thead>\n",
       "<tbody>\n",
       "\t<tr><td>Hourly </td><td>0.03338753</td><td>0.03336032</td></tr>\n",
       "\t<tr><td>Daily  </td><td>0.32677479</td><td>0.31263140</td></tr>\n",
       "\t<tr><td>Monthly</td><td>0.92541361</td><td>0.82845130</td></tr>\n",
       "</tbody>\n",
       "</table>\n"
      ],
      "text/latex": [
       "A data.frame: 3 × 3\n",
       "\\begin{tabular}{lll}\n",
       " Models & R2 & Adj\\_R2\\\\\n",
       " <chr> & <dbl> & <dbl>\\\\\n",
       "\\hline\n",
       "\t Hourly  & 0.03338753 & 0.03336032\\\\\n",
       "\t Daily   & 0.32677479 & 0.31263140\\\\\n",
       "\t Monthly & 0.92541361 & 0.82845130\\\\\n",
       "\\end{tabular}\n"
      ],
      "text/markdown": [
       "\n",
       "A data.frame: 3 × 3\n",
       "\n",
       "| Models &lt;chr&gt; | R2 &lt;dbl&gt; | Adj_R2 &lt;dbl&gt; |\n",
       "|---|---|---|\n",
       "| Hourly  | 0.03338753 | 0.03336032 |\n",
       "| Daily   | 0.32677479 | 0.31263140 |\n",
       "| Monthly | 0.92541361 | 0.82845130 |\n",
       "\n"
      ],
      "text/plain": [
       "  Models  R2         Adj_R2    \n",
       "1 Hourly  0.03338753 0.03336032\n",
       "2 Daily   0.32677479 0.31263140\n",
       "3 Monthly 0.92541361 0.82845130"
      ]
     },
     "metadata": {},
     "output_type": "display_data"
    }
   ],
   "source": [
    "mdl_stats <- data.frame(\n",
    "    Models = c(\"Hourly\", \"Daily\", \"Monthly\"),\n",
    "    `R2` = c(\n",
    "        summary(mdl_hr)$r.squared,\n",
    "        summary(mdl_d)$r.squared,\n",
    "        summary(mdl_m)$r.squared\n",
    "    ),\n",
    "    `Adj_R2` = c(\n",
    "        summary(mdl_hr)$adj.r.squared,\n",
    "        summary(mdl_d)$adj.r.squared,\n",
    "        summary(mdl_m)$adj.r.squared\n",
    "    )\n",
    ")\n",
    "\n",
    "mdl_stats"
   ]
  },
  {
   "cell_type": "code",
   "execution_count": null,
   "metadata": {
    "vscode": {
     "languageId": "r"
    }
   },
   "outputs": [],
   "source": [
    "ranger()"
   ]
  }
 ],
 "metadata": {
  "kernelspec": {
   "display_name": "R",
   "language": "R",
   "name": "ir"
  },
  "language_info": {
   "codemirror_mode": "r",
   "file_extension": ".r",
   "mimetype": "text/x-r-source",
   "name": "R",
   "pygments_lexer": "r",
   "version": "4.2.2"
  },
  "orig_nbformat": 4
 },
 "nbformat": 4,
 "nbformat_minor": 2
}
