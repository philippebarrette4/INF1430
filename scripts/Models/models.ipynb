{
 "cells": [
  {
   "cell_type": "code",
   "execution_count": 10,
   "metadata": {
    "vscode": {
     "languageId": "r"
    }
   },
   "outputs": [],
   "source": [
    "library(dplyr)\n",
    "library(readr)\n",
    "library(ranger)\n",
    "library(broom)"
   ]
  },
  {
   "cell_type": "code",
   "execution_count": 3,
   "metadata": {
    "vscode": {
     "languageId": "r"
    }
   },
   "outputs": [],
   "source": [
    "energy <- \"electricity\"\n",
    "hourlyPath  <- paste0(\"../../curated/\", energy, \"/gold_hourly_\",     energy, \".csv\")\n",
    "dailyPath   <- paste0(\"../../curated/\", energy, \"/gold_daily_\",      energy, \".csv\")\n",
    "monthlyPath <- paste0(\"../../curated/\", energy, \"/gold_monthly_\",    energy, \".csv\")\n"
   ]
  },
  {
   "cell_type": "code",
   "execution_count": 4,
   "metadata": {
    "vscode": {
     "languageId": "r"
    }
   },
   "outputs": [],
   "source": [
    "# Hourly\n",
    "energyHourly      <- read_csv(hourlyPath, show_col_types = FALSE)\n",
    "weatherHourly   <- read_csv(\"../../curated/weather/gold_hourly_weather.csv\", show_col_types = FALSE)\n",
    "\n",
    "# Daily\n",
    "energyDaily       <- read_csv(dailyPath, show_col_types = FALSE)\n",
    "weatherDaily    <- read_csv(\"../../curated/weather/gold_daily_weather.csv\", show_col_types = FALSE)\n",
    "\n",
    "# Monthly\n",
    "energyMonthly      <- read_csv(monthlyPath, show_col_types = FALSE) %>%\n",
    "                    mutate(year_month = factor(paste(year, month, sep = \"-\")))\n",
    "weatherMonthly   <- read_csv(\"../../curated/weather/gold_monthly_weather.csv\", show_col_types = FALSE) %>%\n",
    "                    mutate(year_month = factor(paste(year, month, sep = \"-\")))"
   ]
  },
  {
   "cell_type": "code",
   "execution_count": 5,
   "metadata": {
    "vscode": {
     "languageId": "r"
    }
   },
   "outputs": [],
   "source": [
    "dfHourly <- weatherHourly %>%\n",
    "    left_join(energyHourly,   by = c(\"year\", \"month\", \"hour\"), suffix = c(\"\", \"_energy\")) %>%\n",
    "    select(\n",
    "        year, \n",
    "        month,\n",
    "        hour,\n",
    "        avg_temp,\n",
    "        avg_dewpt_temp,\n",
    "        avg_rel_hum_pct,\n",
    "        avg_wind_dir,\n",
    "        avg_wind_spd,\n",
    "        avg_visib,\n",
    "        avg_stn_press,\n",
    "        avg_hmdx,\n",
    "        avg_wind_chill,\n",
    "        consumption\n",
    "    )\n",
    "\n",
    "dfDaily <- weatherDaily %>%\n",
    "    left_join(energyDaily,   by = c(\"year\", \"month\", \"day\", \"date\"), suffix = c(\"\", \"_energy\")) %>%\n",
    "    select(\n",
    "        year, \n",
    "        month,\n",
    "        date,\n",
    "        day,\n",
    "        avg_temp,\n",
    "        avg_dewpt_temp,\n",
    "        avg_rel_hum_pct,\n",
    "        avg_wind_dir,\n",
    "        avg_wind_spd,\n",
    "        avg_visib,\n",
    "        avg_stn_press,\n",
    "        avg_hmdx,\n",
    "        avg_wind_chill,\n",
    "        consumption\n",
    "    )\n",
    "\n",
    "dfMonthly <- weatherMonthly %>%\n",
    "    left_join(energyMonthly,   by = c(\"year\", \"month\"), suffix = c(\"\", \"_energy\")) %>%\n",
    "    select(\n",
    "        year, \n",
    "        month,\n",
    "        year_month,\n",
    "        avg_temp,\n",
    "        avg_dewpt_temp,\n",
    "        avg_rel_hum_pct,\n",
    "        avg_wind_dir,\n",
    "        avg_wind_spd,\n",
    "        avg_visib,\n",
    "        avg_stn_press,\n",
    "        avg_hmdx,\n",
    "        avg_wind_chill,\n",
    "        consumption\n",
    "    )"
   ]
  },
  {
   "cell_type": "code",
   "execution_count": 6,
   "metadata": {
    "vscode": {
     "languageId": "r"
    }
   },
   "outputs": [],
   "source": [
    "mdl_hr <-   lm(consumption ~ avg_temp * avg_dewpt_temp * avg_rel_hum_pct * avg_hmdx, data = dfHourly)\n",
    "mdl_d <-    lm(consumption ~ avg_temp * avg_dewpt_temp * avg_rel_hum_pct * avg_hmdx, data = dfDaily)\n",
    "mdl_m <-    lm(consumption ~ avg_temp * avg_dewpt_temp * avg_rel_hum_pct * avg_hmdx, data = dfMonthly)"
   ]
  },
  {
   "cell_type": "code",
   "execution_count": 7,
   "metadata": {
    "vscode": {
     "languageId": "r"
    }
   },
   "outputs": [],
   "source": [
    "mdl_rf <- ranger(consumption ~ avg_temp * avg_dewpt_temp * avg_rel_hum_pct * avg_hmdx, data = dfMonthly)"
   ]
  },
  {
   "cell_type": "code",
   "execution_count": 9,
   "metadata": {
    "vscode": {
     "languageId": "r"
    }
   },
   "outputs": [
    {
     "data": {
      "text/html": [
       "0.682782590333042"
      ],
      "text/latex": [
       "0.682782590333042"
      ],
      "text/markdown": [
       "0.682782590333042"
      ],
      "text/plain": [
       "[1] 0.6827826"
      ]
     },
     "metadata": {},
     "output_type": "display_data"
    }
   ],
   "source": [
    "mdl_rf$r.squared"
   ]
  },
  {
   "cell_type": "code",
   "execution_count": 24,
   "metadata": {
    "vscode": {
     "languageId": "r"
    }
   },
   "outputs": [
    {
     "data": {
      "text/html": [
       "<table class=\"dataframe\">\n",
       "<caption>A data.frame: 3 × 3</caption>\n",
       "<thead>\n",
       "\t<tr><th scope=col>Models</th><th scope=col>R2</th><th scope=col>Adj_R2</th></tr>\n",
       "\t<tr><th scope=col>&lt;chr&gt;</th><th scope=col>&lt;dbl&gt;</th><th scope=col>&lt;dbl&gt;</th></tr>\n",
       "</thead>\n",
       "<tbody>\n",
       "\t<tr><td>Hourly </td><td>0.03338753</td><td>0.03336032</td></tr>\n",
       "\t<tr><td>Daily  </td><td>0.32677479</td><td>0.31263140</td></tr>\n",
       "\t<tr><td>Monthly</td><td>0.92541361</td><td>0.82845130</td></tr>\n",
       "</tbody>\n",
       "</table>\n"
      ],
      "text/latex": [
       "A data.frame: 3 × 3\n",
       "\\begin{tabular}{lll}\n",
       " Models & R2 & Adj\\_R2\\\\\n",
       " <chr> & <dbl> & <dbl>\\\\\n",
       "\\hline\n",
       "\t Hourly  & 0.03338753 & 0.03336032\\\\\n",
       "\t Daily   & 0.32677479 & 0.31263140\\\\\n",
       "\t Monthly & 0.92541361 & 0.82845130\\\\\n",
       "\\end{tabular}\n"
      ],
      "text/markdown": [
       "\n",
       "A data.frame: 3 × 3\n",
       "\n",
       "| Models &lt;chr&gt; | R2 &lt;dbl&gt; | Adj_R2 &lt;dbl&gt; |\n",
       "|---|---|---|\n",
       "| Hourly  | 0.03338753 | 0.03336032 |\n",
       "| Daily   | 0.32677479 | 0.31263140 |\n",
       "| Monthly | 0.92541361 | 0.82845130 |\n",
       "\n"
      ],
      "text/plain": [
       "  Models  R2         Adj_R2    \n",
       "1 Hourly  0.03338753 0.03336032\n",
       "2 Daily   0.32677479 0.31263140\n",
       "3 Monthly 0.92541361 0.82845130"
      ]
     },
     "metadata": {},
     "output_type": "display_data"
    }
   ],
   "source": [
    "mdl_stats <- data.frame(\n",
    "    Models = c(\"Hourly\", \"Daily\", \"Monthly\"),\n",
    "    `R2` = c(\n",
    "        summary(mdl_hr)$r.squared,\n",
    "        summary(mdl_d)$r.squared,\n",
    "        summary(mdl_m)$r.squared\n",
    "    ),\n",
    "    `Adj_R2` = c(\n",
    "        summary(mdl_hr)$adj.r.squared,\n",
    "        summary(mdl_d)$adj.r.squared,\n",
    "        summary(mdl_m)$adj.r.squared\n",
    "    )\n",
    ")\n",
    "\n",
    "mdl_stats"
   ]
  },
  {
   "cell_type": "code",
   "execution_count": null,
   "metadata": {
    "vscode": {
     "languageId": "r"
    }
   },
   "outputs": [],
   "source": [
    "ranger()"
   ]
  }
 ],
 "metadata": {
  "kernelspec": {
   "display_name": "R",
   "language": "R",
   "name": "ir"
  },
  "language_info": {
   "codemirror_mode": "r",
   "file_extension": ".r",
   "mimetype": "text/x-r-source",
   "name": "R",
   "pygments_lexer": "r",
   "version": "4.2.2"
  },
  "orig_nbformat": 4
 },
 "nbformat": 4,
 "nbformat_minor": 2
}
