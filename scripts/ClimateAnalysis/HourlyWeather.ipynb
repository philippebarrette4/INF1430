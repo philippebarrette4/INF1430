{
 "cells": [
  {
   "cell_type": "code",
   "execution_count": 80,
   "metadata": {
    "vscode": {
     "languageId": "r"
    }
   },
   "outputs": [],
   "source": [
    "# Import libraries\n",
    "library(dplyr)\n",
    "library(readr)\n",
    "library(tidyr)\n",
    "library(stringr)\n",
    "library(ggplot2)"
   ]
  },
  {
   "cell_type": "markdown",
   "metadata": {},
   "source": [
    "# Initial Analysis"
   ]
  },
  {
   "cell_type": "code",
   "execution_count": 98,
   "metadata": {
    "vscode": {
     "languageId": "r"
    }
   },
   "outputs": [
    {
     "name": "stdout",
     "output_type": "stream",
     "text": [
      "Rows: 17,520\n",
      "Columns: 25\n",
      "$ `Date/Time`           \u001b[3m\u001b[90m<dttm>\u001b[39m\u001b[23m 2012-04-01 00:00:00, 2012-04-01 01:00:00, 2012-…\n",
      "$ Year                  \u001b[3m\u001b[90m<int>\u001b[39m\u001b[23m 2012, 2012, 2012, 2012, 2012, 2012, 2012, 2012, …\n",
      "$ Month                 \u001b[3m\u001b[90m<int>\u001b[39m\u001b[23m 4, 4, 4, 4, 4, 4, 4, 4, 4, 4, 4, 4, 4, 4, 4, 4, …\n",
      "$ Day                   \u001b[3m\u001b[90m<int>\u001b[39m\u001b[23m 1, 1, 1, 1, 1, 1, 1, 1, 1, 1, 1, 1, 1, 1, 1, 1, …\n",
      "$ Time                  \u001b[3m\u001b[90m<time>\u001b[39m\u001b[23m 00:00:00, 01:00:00, 02:00:00, 03:00:00, 04:00:0…\n",
      "$ `Data Quality`        \u001b[3m\u001b[90m<chr>\u001b[39m\u001b[23m NA, NA, NA, NA, NA, NA, NA, NA, NA, NA, NA, NA, …\n",
      "$ `Temp (C)`            \u001b[3m\u001b[90m<dbl>\u001b[39m\u001b[23m 4.3, 4.4, 3.8, 2.8, 2.4, 3.0, 3.7, 4.7, 5.3, 5.9…\n",
      "$ `Temp Flag`           \u001b[3m\u001b[90m<chr>\u001b[39m\u001b[23m NA, NA, NA, NA, NA, NA, NA, NA, NA, NA, NA, NA, …\n",
      "$ `Dew Point Temp (C)`  \u001b[3m\u001b[90m<dbl>\u001b[39m\u001b[23m 2.3, 2.2, 1.6, 0.7, 0.4, 0.9, 1.7, 1.3, 1.3, 1.9…\n",
      "$ `Dew Point Temp Flag` \u001b[3m\u001b[90m<chr>\u001b[39m\u001b[23m NA, NA, NA, NA, NA, NA, NA, NA, NA, NA, NA, NA, …\n",
      "$ `Rel Hum (%)`         \u001b[3m\u001b[90m<int>\u001b[39m\u001b[23m 87, 86, 86, 86, 87, 86, 87, 79, 75, 75, 68, 61, …\n",
      "$ `Rel Hum Flag`        \u001b[3m\u001b[90m<chr>\u001b[39m\u001b[23m NA, NA, NA, NA, NA, NA, NA, NA, NA, NA, NA, NA, …\n",
      "$ `Wind Dir (10s deg)`  \u001b[3m\u001b[90m<int>\u001b[39m\u001b[23m 30, 30, 30, 29, 29, 29, 27, 26, 21, 17, 22, 23, …\n",
      "$ `Wind Dir Flag`       \u001b[3m\u001b[90m<chr>\u001b[39m\u001b[23m NA, NA, NA, NA, NA, NA, NA, NA, NA, NA, NA, NA, …\n",
      "$ `Wind Spd (km/h)`     \u001b[3m\u001b[90m<int>\u001b[39m\u001b[23m 28, 17, 26, 39, 30, 35, 30, 24, 20, 13, 7, 6, 4,…\n",
      "$ `Wind Spd Flag`       \u001b[3m\u001b[90m<chr>\u001b[39m\u001b[23m NA, NA, NA, NA, NA, NA, NA, NA, NA, NA, NA, NA, …\n",
      "$ `Visibility (km)`     \u001b[3m\u001b[90m<dbl>\u001b[39m\u001b[23m 12.9, 8.0, 6.4, 8.0, 9.7, 9.7, 12.9, 16.1, 24.1,…\n",
      "$ `Visibility Flag`     \u001b[3m\u001b[90m<chr>\u001b[39m\u001b[23m NA, NA, NA, NA, NA, NA, NA, NA, NA, NA, NA, NA, …\n",
      "$ `Stn Press (kPa)`     \u001b[3m\u001b[90m<dbl>\u001b[39m\u001b[23m 99.88, 99.94, 100.00, 100.10, 100.23, 100.37, 10…\n",
      "$ `Stn Press Flag`      \u001b[3m\u001b[90m<chr>\u001b[39m\u001b[23m NA, NA, NA, NA, NA, NA, NA, NA, NA, NA, NA, NA, …\n",
      "$ Hmdx                  \u001b[3m\u001b[90m<dbl>\u001b[39m\u001b[23m NA, NA, NA, NA, NA, NA, NA, NA, NA, NA, NA, NA, …\n",
      "$ `Hmdx Flag`           \u001b[3m\u001b[90m<chr>\u001b[39m\u001b[23m NA, NA, NA, NA, NA, NA, NA, NA, NA, NA, NA, NA, …\n",
      "$ `Wind Chill`          \u001b[3m\u001b[90m<int>\u001b[39m\u001b[23m NA, NA, NA, NA, NA, NA, NA, NA, NA, NA, NA, NA, …\n",
      "$ `Wind Chill Flag`     \u001b[3m\u001b[90m<chr>\u001b[39m\u001b[23m NA, NA, NA, NA, NA, NA, NA, NA, NA, NA, NA, NA, …\n",
      "$ Weather               \u001b[3m\u001b[90m<chr>\u001b[39m\u001b[23m \"Rain\", \"Rain - Fog\", \"Rain - Fog\", \"Rain - Fog\"…\n"
     ]
    }
   ],
   "source": [
    "# Read 'Climate_HistoricalNormals.csv' file\n",
    "weatherDF <- read_csv(\n",
    "    \"../../data/dataverse_files/Climate_HourlyWeather.csv\",\n",
    "    col_types = cols(\n",
    "        `Date/Time` = col_datetime(),\n",
    "        Year = col_integer(),\n",
    "        Month = col_integer(),\n",
    "        Day = col_integer(),\n",
    "        Time = col_time(),\n",
    "        `Data Quality` = col_character(),\n",
    "        `Temp (C)` = col_double(),\n",
    "        `Temp Flag` = col_character(),\n",
    "        `Dew Point Temp (C)` = col_double(),\n",
    "        `Dew Point Temp Flag` = col_character(),\n",
    "        `Rel Hum (%)` = col_integer(),\n",
    "        `Rel Hum Flag` = col_character(),\n",
    "        `Wind Dir (10s deg)` = col_integer(),\n",
    "        `Wind Dir Flag` = col_character(),\n",
    "        `Wind Spd (km/h)` = col_integer(),\n",
    "        `Wind Spd Flag` = col_character(),\n",
    "        `Visibility (km)` = col_double(),\n",
    "        `Visibility Flag` = col_character(),\n",
    "        `Stn Press (kPa)` = col_double(),\n",
    "        `Stn Press Flag` = col_character(),\n",
    "        Hmdx = col_double(), # TBD\n",
    "        `Hmdx Flag` = col_character(),\n",
    "        `Wind Chill` = col_integer(), # TBD\n",
    "        `Wind Chill Flag` = col_character(),\n",
    "        Weather = col_character()\n",
    "    )\n",
    ")\n",
    "# Describe the file (cols name, cols type, first values, etc.)\n",
    "glimpse(weatherDF)"
   ]
  }
 ],
 "metadata": {
  "kernelspec": {
   "display_name": "R",
   "language": "R",
   "name": "ir"
  },
  "language_info": {
   "codemirror_mode": "r",
   "file_extension": ".r",
   "mimetype": "text/x-r-source",
   "name": "R",
   "pygments_lexer": "r",
   "version": "4.2.2"
  },
  "orig_nbformat": 4,
  "vscode": {
   "interpreter": {
    "hash": "aee8b7b246df8f9039afb4144a1f6fd8d2ca17a180786b69acc140d282b71a49"
   }
  }
 },
 "nbformat": 4,
 "nbformat_minor": 2
}
