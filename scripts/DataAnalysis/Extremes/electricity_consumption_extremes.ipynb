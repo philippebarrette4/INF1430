{
 "cells": [
  {
   "cell_type": "markdown",
   "metadata": {},
   "source": [
    "# Etreme consumption levels - Electricity"
   ]
  },
  {
   "cell_type": "code",
   "execution_count": 3,
   "metadata": {
    "vscode": {
     "languageId": "r"
    }
   },
   "outputs": [],
   "source": [
    "# Import libraries for reading and wrangling data\n",
    "library(readr)\n",
    "library(dplyr)"
   ]
  },
  {
   "cell_type": "code",
   "execution_count": 5,
   "metadata": {
    "vscode": {
     "languageId": "r"
    }
   },
   "outputs": [],
   "source": [
    "# Read DataFrames\n",
    "ElecHourDF  <- read_csv(\"../../../curated/electricity/gold_hourly_electricity.csv\", show_col_types = FALSE)\n",
    "ElecDayDF   <- read_csv(\"../../../curated/electricity/gold_daily_electricity.csv\", show_col_types = FALSE)\n",
    "ElecMonthDF <- read_csv(\"../../../curated/electricity/gold_monthly_electricity.csv\", show_col_types = FALSE)"
   ]
  },
  {
   "cell_type": "code",
   "execution_count": 33,
   "metadata": {
    "vscode": {
     "languageId": "r"
    }
   },
   "outputs": [],
   "source": [
    "extremes <- function(df, ptimeframe) {\n",
    "    df2 <- df %>%\n",
    "        summarise(\n",
    "            min_consumption = min(consumption),\n",
    "            max_consumption = max(consumption)\n",
    "        ) %>%\n",
    "        mutate(time_frame = ptimeframe)\n",
    "\n",
    "    return(df2)\n",
    "}"
   ]
  },
  {
   "cell_type": "code",
   "execution_count": 34,
   "metadata": {
    "vscode": {
     "languageId": "r"
    }
   },
   "outputs": [],
   "source": [
    "ElecHourExtremesDF  <- extremes(ElecHourDF,     \"hour\")\n",
    "ElecDayExtremesDF   <- extremes(ElecDayDF,      \"day\")\n",
    "ElecMonthExtremesDF <- extremes(ElecMonthDF,    \"month\")"
   ]
  },
  {
   "cell_type": "code",
   "execution_count": 35,
   "metadata": {
    "vscode": {
     "languageId": "r"
    }
   },
   "outputs": [],
   "source": [
    "ElecAllExtremesDF <- union(ElecHourExtremesDF, ElecDayExtremesDF)\n",
    "ElecAllExtremesDF <- union(ElecAllExtremesDF, ElecMonthExtremesDF)"
   ]
  },
  {
   "cell_type": "code",
   "execution_count": 36,
   "metadata": {
    "vscode": {
     "languageId": "r"
    }
   },
   "outputs": [
    {
     "data": {
      "text/html": [
       "<table class=\"dataframe\">\n",
       "<caption>A tibble: 3 × 3</caption>\n",
       "<thead>\n",
       "\t<tr><th scope=col>min_consumption</th><th scope=col>max_consumption</th><th scope=col>time_frame</th></tr>\n",
       "\t<tr><th scope=col>&lt;dbl&gt;</th><th scope=col>&lt;dbl&gt;</th><th scope=col>&lt;chr&gt;</th></tr>\n",
       "</thead>\n",
       "<tbody>\n",
       "\t<tr><td> 0.52</td><td>   6.44</td><td>hour </td></tr>\n",
       "\t<tr><td>13.76</td><td>  49.86</td><td>day  </td></tr>\n",
       "\t<tr><td>19.34</td><td>1073.13</td><td>month</td></tr>\n",
       "</tbody>\n",
       "</table>\n"
      ],
      "text/latex": [
       "A tibble: 3 × 3\n",
       "\\begin{tabular}{lll}\n",
       " min\\_consumption & max\\_consumption & time\\_frame\\\\\n",
       " <dbl> & <dbl> & <chr>\\\\\n",
       "\\hline\n",
       "\t  0.52 &    6.44 & hour \\\\\n",
       "\t 13.76 &   49.86 & day  \\\\\n",
       "\t 19.34 & 1073.13 & month\\\\\n",
       "\\end{tabular}\n"
      ],
      "text/markdown": [
       "\n",
       "A tibble: 3 × 3\n",
       "\n",
       "| min_consumption &lt;dbl&gt; | max_consumption &lt;dbl&gt; | time_frame &lt;chr&gt; |\n",
       "|---|---|---|\n",
       "|  0.52 |    6.44 | hour  |\n",
       "| 13.76 |   49.86 | day   |\n",
       "| 19.34 | 1073.13 | month |\n",
       "\n"
      ],
      "text/plain": [
       "  min_consumption max_consumption time_frame\n",
       "1  0.52              6.44         hour      \n",
       "2 13.76             49.86         day       \n",
       "3 19.34           1073.13         month     "
      ]
     },
     "metadata": {},
     "output_type": "display_data"
    }
   ],
   "source": [
    "head(ElecAllExtremesDF, 20)"
   ]
  }
 ],
 "metadata": {
  "kernelspec": {
   "display_name": "R",
   "language": "R",
   "name": "ir"
  },
  "language_info": {
   "codemirror_mode": "r",
   "file_extension": ".r",
   "mimetype": "text/x-r-source",
   "name": "R",
   "pygments_lexer": "r",
   "version": "4.2.2"
  },
  "orig_nbformat": 4
 },
 "nbformat": 4,
 "nbformat_minor": 2
}
