{
 "cells": [
  {
   "attachments": {},
   "cell_type": "markdown",
   "metadata": {},
   "source": [
    "# Extreme consumption levels - Electricity"
   ]
  },
  {
   "cell_type": "code",
   "execution_count": 3,
   "metadata": {
    "vscode": {
     "languageId": "r"
    }
   },
   "outputs": [],
   "source": [
    "# Import libraries for reading and wrangling data\n",
    "library(readr)\n",
    "library(dplyr)"
   ]
  },
  {
   "cell_type": "code",
   "execution_count": 4,
   "metadata": {
    "vscode": {
     "languageId": "r"
    }
   },
   "outputs": [],
   "source": [
    "# Read DataFrames\n",
    "ElecHourDF  <- read_csv(\"../../../curated/electricity/gold_hourly_electricity.csv\", show_col_types = FALSE)\n",
    "ElecDayDF   <- read_csv(\"../../../curated/electricity/gold_daily_electricity.csv\", show_col_types = FALSE)\n",
    "ElecMonthDF <- read_csv(\"../../../curated/electricity/gold_monthly_electricity.csv\", show_col_types = FALSE)"
   ]
  },
  {
   "cell_type": "code",
   "execution_count": 39,
   "metadata": {
    "vscode": {
     "languageId": "r"
    }
   },
   "outputs": [],
   "source": [
    "df1 <- ElecHourDF %>%\n",
    "    mutate(\n",
    "        extreme_type = ifelse(consumption == min(consumption), \"min\", ifelse(consumption == max(consumption), \"max\", \"\")),\n",
    "        time_frame = \"hour\"\n",
    "    ) %>%\n",
    "    filter(extreme_type %in% c(\"min\", \"max\")) %>%\n",
    "    select(-date)\n",
    "\n",
    "df2 <- ElecDayDF %>%\n",
    "    mutate(\n",
    "        extreme_type = ifelse(consumption == min(consumption), \"min\", ifelse(consumption == max(consumption), \"max\", \"\")),\n",
    "        time_frame = \"day\",\n",
    "        hour = as.integer(NA)\n",
    "    ) %>%\n",
    "    filter(extreme_type %in% c(\"min\", \"max\")) %>%\n",
    "    select(-date)\n",
    "\n",
    "df3 <- ElecMonthDF %>%\n",
    "    mutate(\n",
    "        extreme_type = ifelse(consumption == min(consumption), \"min\", ifelse(consumption == max(consumption), \"max\", \"\")),\n",
    "        time_frame = \"month\",\n",
    "        day = as.integer(NA),\n",
    "        hour = as.integer(NA)\n",
    "    ) %>%\n",
    "    filter(extreme_type %in% c(\"min\", \"max\"))"
   ]
  },
  {
   "cell_type": "code",
   "execution_count": 40,
   "metadata": {
    "vscode": {
     "languageId": "r"
    }
   },
   "outputs": [
    {
     "data": {
      "text/html": [
       "<table class=\"dataframe\">\n",
       "<caption>A tibble: 3 × 7</caption>\n",
       "<thead>\n",
       "\t<tr><th scope=col>year</th><th scope=col>month</th><th scope=col>day</th><th scope=col>hour</th><th scope=col>consumption</th><th scope=col>extreme_type</th><th scope=col>time_frame</th></tr>\n",
       "\t<tr><th scope=col>&lt;dbl&gt;</th><th scope=col>&lt;dbl&gt;</th><th scope=col>&lt;dbl&gt;</th><th scope=col>&lt;dbl&gt;</th><th scope=col>&lt;dbl&gt;</th><th scope=col>&lt;chr&gt;</th><th scope=col>&lt;chr&gt;</th></tr>\n",
       "</thead>\n",
       "<tbody>\n",
       "\t<tr><td>2012</td><td> 6</td><td>13</td><td>22</td><td>0.516</td><td>min</td><td>hour</td></tr>\n",
       "\t<tr><td>2012</td><td> 6</td><td>17</td><td>22</td><td>0.516</td><td>min</td><td>hour</td></tr>\n",
       "\t<tr><td>2013</td><td>12</td><td> 2</td><td>10</td><td>6.442</td><td>max</td><td>hour</td></tr>\n",
       "</tbody>\n",
       "</table>\n"
      ],
      "text/latex": [
       "A tibble: 3 × 7\n",
       "\\begin{tabular}{lllllll}\n",
       " year & month & day & hour & consumption & extreme\\_type & time\\_frame\\\\\n",
       " <dbl> & <dbl> & <dbl> & <dbl> & <dbl> & <chr> & <chr>\\\\\n",
       "\\hline\n",
       "\t 2012 &  6 & 13 & 22 & 0.516 & min & hour\\\\\n",
       "\t 2012 &  6 & 17 & 22 & 0.516 & min & hour\\\\\n",
       "\t 2013 & 12 &  2 & 10 & 6.442 & max & hour\\\\\n",
       "\\end{tabular}\n"
      ],
      "text/markdown": [
       "\n",
       "A tibble: 3 × 7\n",
       "\n",
       "| year &lt;dbl&gt; | month &lt;dbl&gt; | day &lt;dbl&gt; | hour &lt;dbl&gt; | consumption &lt;dbl&gt; | extreme_type &lt;chr&gt; | time_frame &lt;chr&gt; |\n",
       "|---|---|---|---|---|---|---|\n",
       "| 2012 |  6 | 13 | 22 | 0.516 | min | hour |\n",
       "| 2012 |  6 | 17 | 22 | 0.516 | min | hour |\n",
       "| 2013 | 12 |  2 | 10 | 6.442 | max | hour |\n",
       "\n"
      ],
      "text/plain": [
       "  year month day hour consumption extreme_type time_frame\n",
       "1 2012  6    13  22   0.516       min          hour      \n",
       "2 2012  6    17  22   0.516       min          hour      \n",
       "3 2013 12     2  10   6.442       max          hour      "
      ]
     },
     "metadata": {},
     "output_type": "display_data"
    }
   ],
   "source": [
    "df1"
   ]
  },
  {
   "cell_type": "code",
   "execution_count": 41,
   "metadata": {
    "vscode": {
     "languageId": "r"
    }
   },
   "outputs": [
    {
     "data": {
      "text/html": [
       "<table class=\"dataframe\">\n",
       "<caption>A tibble: 2 × 7</caption>\n",
       "<thead>\n",
       "\t<tr><th scope=col>year</th><th scope=col>month</th><th scope=col>day</th><th scope=col>consumption</th><th scope=col>extreme_type</th><th scope=col>time_frame</th><th scope=col>hour</th></tr>\n",
       "\t<tr><th scope=col>&lt;dbl&gt;</th><th scope=col>&lt;dbl&gt;</th><th scope=col>&lt;dbl&gt;</th><th scope=col>&lt;dbl&gt;</th><th scope=col>&lt;chr&gt;</th><th scope=col>&lt;chr&gt;</th><th scope=col>&lt;int&gt;</th></tr>\n",
       "</thead>\n",
       "<tbody>\n",
       "\t<tr><td>2012</td><td> 4</td><td>1</td><td>13.755</td><td>min</td><td>day</td><td>NA</td></tr>\n",
       "\t<tr><td>2012</td><td>12</td><td>4</td><td>49.856</td><td>max</td><td>day</td><td>NA</td></tr>\n",
       "</tbody>\n",
       "</table>\n"
      ],
      "text/latex": [
       "A tibble: 2 × 7\n",
       "\\begin{tabular}{lllllll}\n",
       " year & month & day & consumption & extreme\\_type & time\\_frame & hour\\\\\n",
       " <dbl> & <dbl> & <dbl> & <dbl> & <chr> & <chr> & <int>\\\\\n",
       "\\hline\n",
       "\t 2012 &  4 & 1 & 13.755 & min & day & NA\\\\\n",
       "\t 2012 & 12 & 4 & 49.856 & max & day & NA\\\\\n",
       "\\end{tabular}\n"
      ],
      "text/markdown": [
       "\n",
       "A tibble: 2 × 7\n",
       "\n",
       "| year &lt;dbl&gt; | month &lt;dbl&gt; | day &lt;dbl&gt; | consumption &lt;dbl&gt; | extreme_type &lt;chr&gt; | time_frame &lt;chr&gt; | hour &lt;int&gt; |\n",
       "|---|---|---|---|---|---|---|\n",
       "| 2012 |  4 | 1 | 13.755 | min | day | NA |\n",
       "| 2012 | 12 | 4 | 49.856 | max | day | NA |\n",
       "\n"
      ],
      "text/plain": [
       "  year month day consumption extreme_type time_frame hour\n",
       "1 2012  4    1   13.755      min          day        NA  \n",
       "2 2012 12    4   49.856      max          day        NA  "
      ]
     },
     "metadata": {},
     "output_type": "display_data"
    }
   ],
   "source": [
    "df2"
   ]
  },
  {
   "cell_type": "code",
   "execution_count": 42,
   "metadata": {
    "vscode": {
     "languageId": "r"
    }
   },
   "outputs": [
    {
     "data": {
      "text/html": [
       "<table class=\"dataframe\">\n",
       "<caption>A tibble: 2 × 7</caption>\n",
       "<thead>\n",
       "\t<tr><th scope=col>year</th><th scope=col>month</th><th scope=col>consumption</th><th scope=col>extreme_type</th><th scope=col>time_frame</th><th scope=col>day</th><th scope=col>hour</th></tr>\n",
       "\t<tr><th scope=col>&lt;dbl&gt;</th><th scope=col>&lt;dbl&gt;</th><th scope=col>&lt;dbl&gt;</th><th scope=col>&lt;chr&gt;</th><th scope=col>&lt;chr&gt;</th><th scope=col>&lt;int&gt;</th><th scope=col>&lt;int&gt;</th></tr>\n",
       "</thead>\n",
       "<tbody>\n",
       "\t<tr><td>2012</td><td>11</td><td>1073.132</td><td>max</td><td>month</td><td>NA</td><td>NA</td></tr>\n",
       "\t<tr><td>2014</td><td> 4</td><td>  19.342</td><td>min</td><td>month</td><td>NA</td><td>NA</td></tr>\n",
       "</tbody>\n",
       "</table>\n"
      ],
      "text/latex": [
       "A tibble: 2 × 7\n",
       "\\begin{tabular}{lllllll}\n",
       " year & month & consumption & extreme\\_type & time\\_frame & day & hour\\\\\n",
       " <dbl> & <dbl> & <dbl> & <chr> & <chr> & <int> & <int>\\\\\n",
       "\\hline\n",
       "\t 2012 & 11 & 1073.132 & max & month & NA & NA\\\\\n",
       "\t 2014 &  4 &   19.342 & min & month & NA & NA\\\\\n",
       "\\end{tabular}\n"
      ],
      "text/markdown": [
       "\n",
       "A tibble: 2 × 7\n",
       "\n",
       "| year &lt;dbl&gt; | month &lt;dbl&gt; | consumption &lt;dbl&gt; | extreme_type &lt;chr&gt; | time_frame &lt;chr&gt; | day &lt;int&gt; | hour &lt;int&gt; |\n",
       "|---|---|---|---|---|---|---|\n",
       "| 2012 | 11 | 1073.132 | max | month | NA | NA |\n",
       "| 2014 |  4 |   19.342 | min | month | NA | NA |\n",
       "\n"
      ],
      "text/plain": [
       "  year month consumption extreme_type time_frame day hour\n",
       "1 2012 11    1073.132    max          month      NA  NA  \n",
       "2 2014  4      19.342    min          month      NA  NA  "
      ]
     },
     "metadata": {},
     "output_type": "display_data"
    }
   ],
   "source": [
    "df3"
   ]
  },
  {
   "cell_type": "code",
   "execution_count": 48,
   "metadata": {
    "vscode": {
     "languageId": "r"
    }
   },
   "outputs": [
    {
     "data": {
      "text/html": [
       "<table class=\"dataframe\">\n",
       "<caption>A tibble: 7 × 7</caption>\n",
       "<thead>\n",
       "\t<tr><th scope=col>year</th><th scope=col>month</th><th scope=col>day</th><th scope=col>hour</th><th scope=col>consumption</th><th scope=col>extreme_type</th><th scope=col>time_frame</th></tr>\n",
       "\t<tr><th scope=col>&lt;dbl&gt;</th><th scope=col>&lt;dbl&gt;</th><th scope=col>&lt;dbl&gt;</th><th scope=col>&lt;dbl&gt;</th><th scope=col>&lt;dbl&gt;</th><th scope=col>&lt;chr&gt;</th><th scope=col>&lt;chr&gt;</th></tr>\n",
       "</thead>\n",
       "<tbody>\n",
       "\t<tr><td>2012</td><td> 6</td><td>13</td><td>22</td><td>   0.516</td><td>min</td><td>hour </td></tr>\n",
       "\t<tr><td>2012</td><td> 6</td><td>17</td><td>22</td><td>   0.516</td><td>min</td><td>hour </td></tr>\n",
       "\t<tr><td>2013</td><td>12</td><td> 2</td><td>10</td><td>   6.442</td><td>max</td><td>hour </td></tr>\n",
       "\t<tr><td>2012</td><td> 4</td><td> 1</td><td>NA</td><td>  13.755</td><td>min</td><td>day  </td></tr>\n",
       "\t<tr><td>2012</td><td>12</td><td> 4</td><td>NA</td><td>  49.856</td><td>max</td><td>day  </td></tr>\n",
       "\t<tr><td>2014</td><td> 4</td><td>NA</td><td>NA</td><td>  19.342</td><td>min</td><td>month</td></tr>\n",
       "\t<tr><td>2012</td><td>11</td><td>NA</td><td>NA</td><td>1073.132</td><td>max</td><td>month</td></tr>\n",
       "</tbody>\n",
       "</table>\n"
      ],
      "text/latex": [
       "A tibble: 7 × 7\n",
       "\\begin{tabular}{lllllll}\n",
       " year & month & day & hour & consumption & extreme\\_type & time\\_frame\\\\\n",
       " <dbl> & <dbl> & <dbl> & <dbl> & <dbl> & <chr> & <chr>\\\\\n",
       "\\hline\n",
       "\t 2012 &  6 & 13 & 22 &    0.516 & min & hour \\\\\n",
       "\t 2012 &  6 & 17 & 22 &    0.516 & min & hour \\\\\n",
       "\t 2013 & 12 &  2 & 10 &    6.442 & max & hour \\\\\n",
       "\t 2012 &  4 &  1 & NA &   13.755 & min & day  \\\\\n",
       "\t 2012 & 12 &  4 & NA &   49.856 & max & day  \\\\\n",
       "\t 2014 &  4 & NA & NA &   19.342 & min & month\\\\\n",
       "\t 2012 & 11 & NA & NA & 1073.132 & max & month\\\\\n",
       "\\end{tabular}\n"
      ],
      "text/markdown": [
       "\n",
       "A tibble: 7 × 7\n",
       "\n",
       "| year &lt;dbl&gt; | month &lt;dbl&gt; | day &lt;dbl&gt; | hour &lt;dbl&gt; | consumption &lt;dbl&gt; | extreme_type &lt;chr&gt; | time_frame &lt;chr&gt; |\n",
       "|---|---|---|---|---|---|---|\n",
       "| 2012 |  6 | 13 | 22 |    0.516 | min | hour  |\n",
       "| 2012 |  6 | 17 | 22 |    0.516 | min | hour  |\n",
       "| 2013 | 12 |  2 | 10 |    6.442 | max | hour  |\n",
       "| 2012 |  4 |  1 | NA |   13.755 | min | day   |\n",
       "| 2012 | 12 |  4 | NA |   49.856 | max | day   |\n",
       "| 2014 |  4 | NA | NA |   19.342 | min | month |\n",
       "| 2012 | 11 | NA | NA | 1073.132 | max | month |\n",
       "\n"
      ],
      "text/plain": [
       "  year month day hour consumption extreme_type time_frame\n",
       "1 2012  6    13  22      0.516    min          hour      \n",
       "2 2012  6    17  22      0.516    min          hour      \n",
       "3 2013 12     2  10      6.442    max          hour      \n",
       "4 2012  4     1  NA     13.755    min          day       \n",
       "5 2012 12     4  NA     49.856    max          day       \n",
       "6 2014  4    NA  NA     19.342    min          month     \n",
       "7 2012 11    NA  NA   1073.132    max          month     "
      ]
     },
     "metadata": {},
     "output_type": "display_data"
    }
   ],
   "source": [
    "df1 %>%\n",
    "    union(df2) %>%\n",
    "    union(df3) %>%\n",
    "    arrange(factor(time_frame, levels = c(\"hour\", \"day\", \"month\")), consumption)"
   ]
  }
 ],
 "metadata": {
  "kernelspec": {
   "display_name": "R",
   "language": "R",
   "name": "ir"
  },
  "language_info": {
   "codemirror_mode": "r",
   "file_extension": ".r",
   "mimetype": "text/x-r-source",
   "name": "R",
   "pygments_lexer": "r",
   "version": "4.2.2"
  },
  "orig_nbformat": 4
 },
 "nbformat": 4,
 "nbformat_minor": 2
}
